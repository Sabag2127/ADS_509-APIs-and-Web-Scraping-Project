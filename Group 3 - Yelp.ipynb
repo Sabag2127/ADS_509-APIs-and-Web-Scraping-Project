{
 "cells": [
  {
   "cell_type": "code",
   "execution_count": null,
   "id": "3f6ea868",
   "metadata": {},
   "outputs": [],
   "source": [
    "from bs4 import BeautifulSoup\n",
    "import requests\n",
    "import pandas as pd\n",
    "import numpy as np\n",
    "import json\n",
    "from selenium import webdriver\n",
    "from selenium.webdriver.common.by import By\n",
    "from selenium.webdriver.support.ui import WebDriverWait\n",
    "from selenium.webdriver.support import expected_conditions as EC\n",
    "from selenium.webdriver.common.keys import Keys"
   ]
  },
  {
   "cell_type": "code",
   "execution_count": null,
   "id": "a63bbbeb",
   "metadata": {},
   "outputs": [],
   "source": [
    "# Function to Scrape Yelp Reviews\n",
    "\n",
    "def scrape_yelp_pages(url):\n",
    "    # Set up Chrome driver service\n",
    "    service = webdriver.chrome.service.Service('/Users/JohnnyBlaze/drivers/chromedriver')  \n",
    "    service.start()\n",
    "\n",
    "    # Set up Chrome options\n",
    "    options = webdriver.ChromeOptions()\n",
    "    options.add_argument('--headless')  \n",
    "\n",
    "    # Create a new instance of the Chrome driver\n",
    "    driver = webdriver.Chrome(service=service, options=options)\n",
    "\n",
    "    # Navigate to the webpage\n",
    "    driver.get(url)\n",
    "\n",
    "    # Wait for the page to load and for the first page number element to be visible\n",
    "    page_number_element = WebDriverWait(driver, 10).until(\n",
    "        EC.visibility_of_element_located((By.XPATH, '//div[@aria-label=\"Page: 1\"]'))\n",
    "    )\n",
    "\n",
    "    reviews = []\n",
    "    star_ratings = []\n",
    "    dates = []\n",
    "\n",
    "    while True:\n",
    "        # Process the current page here\n",
    "        review_elements = driver.find_elements(By.XPATH, '//span[@class=\" raw__09f24__T4Ezm\" and @lang=\"en\"]')\n",
    "        star_rating_elements = driver.find_elements(By.XPATH, '//div[contains(@aria-label, \"star rating\")]')\n",
    "        date_elements = driver.find_elements(By.XPATH, '//span[@class=\" css-chan6m\"]')\n",
    "\n",
    "        for review_element, star_rating_element, date_element in zip(review_elements, star_rating_elements, date_elements):\n",
    "            review_text = review_element.text\n",
    "            star_rating = star_rating_element.get_attribute('aria-label')\n",
    "            date = date_element.text\n",
    "\n",
    "            # Ignore dates with the words 'Photos', 'years', 'Photo', and 'year'\n",
    "            if 'Photos' not in date and 'years' not in date and 'Photo' not in date and 'year' not in date:\n",
    "                reviews.append(review_text)\n",
    "                star_ratings.append(star_rating)\n",
    "                dates.append(date)\n",
    "\n",
    "        try:\n",
    "            # Click on the next page\n",
    "            next_page_arrow = driver.find_element(By.XPATH, '//span[@class=\"icon--24-chevron-right-v2 navigation-button-icon__09f24__Bmrde css-1kq79li\"]')\n",
    "            next_page_arrow.click()\n",
    "\n",
    "            # Wait for a brief moment for the new review elements to load\n",
    "            WebDriverWait(driver, 1).until(EC.presence_of_element_located((By.XPATH, '//span[@class=\" raw__09f24__T4Ezm\" and @lang=\"en\"]')))\n",
    "\n",
    "        except:\n",
    "            # Break the loop when there are no more pages to click\n",
    "            break\n",
    "\n",
    "    # Close the browser window\n",
    "    driver.quit()\n",
    "\n",
    "    # Create a DataFrame with the scraped data\n",
    "    data = pd.DataFrame({'Date': dates, 'Review': reviews, 'Star Rating': star_ratings})\n",
    "\n",
    "    return data"
   ]
  },
  {
   "cell_type": "code",
   "execution_count": null,
   "id": "330e990f",
   "metadata": {},
   "outputs": [],
   "source": [
    "# Filippi's Pizza\n",
    "\n",
    "pizza_df = scrape_yelp_pages('https://www.yelp.com/biz/filippis-pizza-grotto-mission-valley-san-diego?osq=pizza')\n",
    "\n",
    "pizza_df.head()"
   ]
  },
  {
   "cell_type": "code",
   "execution_count": null,
   "id": "b7e8b5f5",
   "metadata": {},
   "outputs": [],
   "source": [
    "# To CSV\n",
    "\n",
    "csv_file_path = '/Users/JohnnyBlaze/filippi.csv'\n",
    "\n",
    "pizza_df.to_csv(csv_file_path, index=False)"
   ]
  },
  {
   "cell_type": "code",
   "execution_count": null,
   "id": "4de022f2",
   "metadata": {},
   "outputs": [],
   "source": [
    "# Tacos El G\n",
    "\n",
    "taco_df = scrape_yelp_pages('https://www.yelp.com/biz/tacos-el-g-national-city-7?osq=Tacos')\n",
    "\n",
    "taco_df.head()"
   ]
  },
  {
   "cell_type": "code",
   "execution_count": null,
   "id": "de9d12da",
   "metadata": {},
   "outputs": [],
   "source": [
    "# To CSV\n",
    "\n",
    "csv_file_path = '/Users/JohnnyBlaze/taco_el_g.csv'\n",
    "\n",
    "taco_df.to_csv(csv_file_path, index=False)"
   ]
  }
 ],
 "metadata": {
  "kernelspec": {
   "display_name": "Python 3 (ipykernel)",
   "language": "python",
   "name": "python3"
  },
  "language_info": {
   "codemirror_mode": {
    "name": "ipython",
    "version": 3
   },
   "file_extension": ".py",
   "mimetype": "text/x-python",
   "name": "python",
   "nbconvert_exporter": "python",
   "pygments_lexer": "ipython3",
   "version": "3.9.7"
  }
 },
 "nbformat": 4,
 "nbformat_minor": 5
}
