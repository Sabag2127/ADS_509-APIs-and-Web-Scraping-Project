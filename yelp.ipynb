{
 "cells": [
  {
   "cell_type": "markdown",
   "id": "4a34fdc9",
   "metadata": {},
   "source": [
    "# A Predictive Analysis of Restaurant Reviews through Classification Modeling"
   ]
  },
  {
   "cell_type": "code",
   "execution_count": 1,
   "id": "61f2b114",
   "metadata": {},
   "outputs": [],
   "source": [
    "#pip install selenium "
   ]
  },
  {
   "cell_type": "code",
   "execution_count": 2,
   "id": "d70f3838",
   "metadata": {},
   "outputs": [],
   "source": [
    "#!pip install selenium\n",
    "#import sys\n",
    "#!{sys.executable} -m pip install selenium"
   ]
  },
  {
   "cell_type": "code",
   "execution_count": 3,
   "id": "bb0e8755",
   "metadata": {},
   "outputs": [
    {
     "name": "stdout",
     "output_type": "stream",
     "text": [
      "Requirement already satisfied: textblob in c:\\programdata\\anaconda3\\lib\\site-packages (0.17.1)\n",
      "Requirement already satisfied: nltk>=3.1 in c:\\programdata\\anaconda3\\lib\\site-packages (from textblob) (3.6.1)\n",
      "Requirement already satisfied: tqdm in c:\\programdata\\anaconda3\\lib\\site-packages (from nltk>=3.1->textblob) (4.59.0)\n",
      "Requirement already satisfied: joblib in c:\\programdata\\anaconda3\\lib\\site-packages (from nltk>=3.1->textblob) (1.0.1)\n",
      "Requirement already satisfied: regex in c:\\programdata\\anaconda3\\lib\\site-packages (from nltk>=3.1->textblob) (2021.4.4)\n",
      "Requirement already satisfied: click in c:\\programdata\\anaconda3\\lib\\site-packages (from nltk>=3.1->textblob) (7.1.2)\n",
      "Note: you may need to restart the kernel to use updated packages.\n"
     ]
    }
   ],
   "source": [
    "pip install textblob"
   ]
  },
  {
   "cell_type": "code",
   "execution_count": 81,
   "id": "ce79d5a8",
   "metadata": {},
   "outputs": [],
   "source": [
    "from bs4 import BeautifulSoup\n",
    "import requests\n",
    "import pandas as pd\n",
    "import numpy as np\n",
    "import json\n",
    "\n",
    "from selenium import webdriver\n",
    "from selenium.webdriver.common.by import By\n",
    "from selenium.webdriver.support.ui import WebDriverWait\n",
    "from selenium.webdriver.support import expected_conditions as EC\n",
    "from selenium.webdriver.common.keys import Keys\n",
    "\n",
    "\n",
    "import requests\n",
    "import pandas as pd\n",
    "import numpy as np\n",
    "import json\n",
    "from selenium import webdriver\n",
    "from selenium.webdriver.common.by import By\n",
    "from selenium.webdriver.support.ui import WebDriverWait\n",
    "from selenium.webdriver.support import expected_conditions as EC\n",
    "from selenium.webdriver.common.keys import Keys\n",
    "\n",
    "from collections import Counter\n",
    "from nltk.corpus import stopwords\n",
    "from string import punctuation\n",
    "from wordcloud import WordCloud \n",
    "from sklearn.feature_extraction.text import TfidfTransformer, CountVectorizer\n",
    "from textblob import TextBlob\n",
    "import seaborn as sns\n",
    "import matplotlib.pyplot as plt\n",
    "\n",
    "\n",
    "from sklearn.model_selection import train_test_split\n",
    "from sklearn.feature_extraction.text import TfidfVectorizer\n",
    "from sklearn.svm import LinearSVC\n",
    "from sklearn.metrics import accuracy_score\n",
    "from sklearn.metrics import confusion_matrix\n",
    "from sklearn.metrics import classification_report\n",
    "from sklearn.ensemble import RandomForestClassifier\n",
    "from sklearn.model_selection import GridSearchCV\n",
    "import seaborn as sns\n",
    "from sklearn.metrics import accuracy_score\n",
    "\n",
    "import warnings\n",
    "warnings.filterwarnings(\"ignore\")"
   ]
  },
  {
   "cell_type": "code",
   "execution_count": 5,
   "id": "7868f2e1",
   "metadata": {},
   "outputs": [],
   "source": [
    "# Function to Scrape Yelp Reviews\n",
    "\n",
    "def scrape_yelp_pages(url):\n",
    "    # Set up Chrome driver service\n",
    "    service = webdriver.chrome.service.Service('chromedriver')  \n",
    "    service.start()\n",
    "\n",
    "    # Set up Chrome options\n",
    "    options = webdriver.ChromeOptions()\n",
    "    options.add_argument('--headless')  \n",
    "\n",
    "    # Create a new instance of the Chrome driver\n",
    "    driver = webdriver.Chrome(service=service, options=options)\n",
    "\n",
    "    # Navigate to the webpage\n",
    "    driver.get(url)\n",
    "\n",
    "    # Wait for the page to load and for the first page number element to be visible\n",
    "    page_number_element = WebDriverWait(driver, 10).until(\n",
    "        EC.visibility_of_element_located((By.XPATH, '//div[@aria-label=\"Page: 1\"]'))\n",
    "    )\n",
    "\n",
    "    reviews = []\n",
    "    star_ratings = []\n",
    "    dates = []\n",
    "    while True:\n",
    "        # Process the current page here\n",
    "        review_elements = driver.find_elements(By.XPATH, '//span[@class=\" raw__09f24__T4Ezm\" and @lang=\"en\"]')\n",
    "        star_rating_elements = driver.find_elements(By.XPATH, '//div[contains(@aria-label, \"star rating\")]')\n",
    "        date_elements = driver.find_elements(By.XPATH, '//span[@class=\" css-chan6m\"]')\n",
    "\n",
    "        for review_element, star_rating_element, date_element in zip(review_elements, star_rating_elements, date_elements):\n",
    "            review_text = review_element.text\n",
    "            star_rating = star_rating_element.get_attribute('aria-label')\n",
    "            date = date_element.text\n",
    "\n",
    "            # Ignore dates with the words 'Photos', 'years', 'Photo', and 'year'\n",
    "            if 'Photos' not in date and 'years' not in date and 'Photo' not in date and 'year' not in date:\n",
    "                reviews.append(review_text)\n",
    "                star_ratings.append(star_rating)\n",
    "                dates.append(date)\n",
    "\n",
    "        try:\n",
    "            # Click on the next page\n",
    "            next_page_arrow = driver.find_element(By.XPATH, '//span[@class=\"icon--24-chevron-right-v2 navigation-button-icon__09f24__Bmrde css-1kq79li\"]')\n",
    "            next_page_arrow.click()\n",
    "\n",
    "            # Wait for a brief moment for the new review elements to load\n",
    "            WebDriverWait(driver, 1).until(EC.presence_of_element_located((By.XPATH, '//span[@class=\" raw__09f24__T4Ezm\" and @lang=\"en\"]')))\n",
    "\n",
    "        except:\n",
    "            # Break the loop when there are no more pages to click\n",
    "            break\n",
    " # Close the browser window\n",
    "    driver.quit()\n",
    "\n",
    "    # Create a DataFrame with the scraped data\n",
    "    data = pd.DataFrame({'Date': dates, 'Review': reviews, 'Star Rating': star_ratings})\n",
    "\n",
    "    return data"
   ]
  },
  {
   "cell_type": "code",
   "execution_count": 6,
   "id": "5d29797a",
   "metadata": {},
   "outputs": [
    {
     "data": {
      "text/html": [
       "<div>\n",
       "<style scoped>\n",
       "    .dataframe tbody tr th:only-of-type {\n",
       "        vertical-align: middle;\n",
       "    }\n",
       "\n",
       "    .dataframe tbody tr th {\n",
       "        vertical-align: top;\n",
       "    }\n",
       "\n",
       "    .dataframe thead th {\n",
       "        text-align: right;\n",
       "    }\n",
       "</style>\n",
       "<table border=\"1\" class=\"dataframe\">\n",
       "  <thead>\n",
       "    <tr style=\"text-align: right;\">\n",
       "      <th></th>\n",
       "      <th>Date</th>\n",
       "      <th>Review</th>\n",
       "      <th>Star Rating</th>\n",
       "    </tr>\n",
       "  </thead>\n",
       "  <tbody>\n",
       "    <tr>\n",
       "      <th>0</th>\n",
       "      <td>1/19/2023</td>\n",
       "      <td>We loved every meal we have ever tried at Fili...</td>\n",
       "      <td>5 star rating</td>\n",
       "    </tr>\n",
       "    <tr>\n",
       "      <th>1</th>\n",
       "      <td>1/18/2023</td>\n",
       "      <td>I ordered a basil and cheese pizza and it is p...</td>\n",
       "      <td>1 star rating</td>\n",
       "    </tr>\n",
       "    <tr>\n",
       "      <th>2</th>\n",
       "      <td>6/4/2023</td>\n",
       "      <td>This is my Kids FAV pizza in town. Yes, it may...</td>\n",
       "      <td>5 star rating</td>\n",
       "    </tr>\n",
       "    <tr>\n",
       "      <th>3</th>\n",
       "      <td>6/6/2023</td>\n",
       "      <td>You've never had a good pizza till you've had ...</td>\n",
       "      <td>5 star rating</td>\n",
       "    </tr>\n",
       "    <tr>\n",
       "      <th>4</th>\n",
       "      <td>10/27/2022</td>\n",
       "      <td>Fast service, Eddie was very efficient and kin...</td>\n",
       "      <td>5 star rating</td>\n",
       "    </tr>\n",
       "  </tbody>\n",
       "</table>\n",
       "</div>"
      ],
      "text/plain": [
       "         Date                                             Review  \\\n",
       "0   1/19/2023  We loved every meal we have ever tried at Fili...   \n",
       "1   1/18/2023  I ordered a basil and cheese pizza and it is p...   \n",
       "2    6/4/2023  This is my Kids FAV pizza in town. Yes, it may...   \n",
       "3    6/6/2023  You've never had a good pizza till you've had ...   \n",
       "4  10/27/2022  Fast service, Eddie was very efficient and kin...   \n",
       "\n",
       "     Star Rating  \n",
       "0  5 star rating  \n",
       "1  1 star rating  \n",
       "2  5 star rating  \n",
       "3  5 star rating  \n",
       "4  5 star rating  "
      ]
     },
     "execution_count": 6,
     "metadata": {},
     "output_type": "execute_result"
    }
   ],
   "source": [
    "# Filippi's Pizza\n",
    "\n",
    "pizza_df = scrape_yelp_pages('https://www.yelp.com/biz/filippis-pizza-grotto-mission-valley-san-diego?osq=pizza')\n",
    "\n",
    "pizza_df.head()"
   ]
  },
  {
   "cell_type": "code",
   "execution_count": 7,
   "id": "400aeb2c",
   "metadata": {},
   "outputs": [],
   "source": [
    "# To CSV\n",
    "\n",
    "csv_file_path = 'filippi.csv'\n",
    "\n",
    "pizza_df.to_csv(csv_file_path, index=False)"
   ]
  },
  {
   "cell_type": "code",
   "execution_count": 8,
   "id": "435f71d8",
   "metadata": {},
   "outputs": [
    {
     "data": {
      "text/html": [
       "<div>\n",
       "<style scoped>\n",
       "    .dataframe tbody tr th:only-of-type {\n",
       "        vertical-align: middle;\n",
       "    }\n",
       "\n",
       "    .dataframe tbody tr th {\n",
       "        vertical-align: top;\n",
       "    }\n",
       "\n",
       "    .dataframe thead th {\n",
       "        text-align: right;\n",
       "    }\n",
       "</style>\n",
       "<table border=\"1\" class=\"dataframe\">\n",
       "  <thead>\n",
       "    <tr style=\"text-align: right;\">\n",
       "      <th></th>\n",
       "      <th>Date</th>\n",
       "      <th>Review</th>\n",
       "      <th>Star Rating</th>\n",
       "    </tr>\n",
       "  </thead>\n",
       "  <tbody>\n",
       "    <tr>\n",
       "      <th>0</th>\n",
       "      <td>5/2/2023</td>\n",
       "      <td>Not good there is this weird tasting sauce the...</td>\n",
       "      <td>5 star rating</td>\n",
       "    </tr>\n",
       "    <tr>\n",
       "      <th>1</th>\n",
       "      <td>3/14/2023</td>\n",
       "      <td>It really could have been better because I am ...</td>\n",
       "      <td>4 star rating</td>\n",
       "    </tr>\n",
       "    <tr>\n",
       "      <th>2</th>\n",
       "      <td>2/19/2023</td>\n",
       "      <td>Tacos are good.\\nPrices were raised though so ...</td>\n",
       "      <td>1 star rating</td>\n",
       "    </tr>\n",
       "    <tr>\n",
       "      <th>3</th>\n",
       "      <td>4/7/2023</td>\n",
       "      <td>tacos had no flavor,meat was greasy and tough....</td>\n",
       "      <td>5 star rating</td>\n",
       "    </tr>\n",
       "    <tr>\n",
       "      <th>4</th>\n",
       "      <td>3/13/2022</td>\n",
       "      <td>Late night stop with my cousin! Neither of us ...</td>\n",
       "      <td>5 star rating</td>\n",
       "    </tr>\n",
       "  </tbody>\n",
       "</table>\n",
       "</div>"
      ],
      "text/plain": [
       "        Date                                             Review    Star Rating\n",
       "0   5/2/2023  Not good there is this weird tasting sauce the...  5 star rating\n",
       "1  3/14/2023  It really could have been better because I am ...  4 star rating\n",
       "2  2/19/2023  Tacos are good.\\nPrices were raised though so ...  1 star rating\n",
       "3   4/7/2023  tacos had no flavor,meat was greasy and tough....  5 star rating\n",
       "4  3/13/2022  Late night stop with my cousin! Neither of us ...  5 star rating"
      ]
     },
     "execution_count": 8,
     "metadata": {},
     "output_type": "execute_result"
    }
   ],
   "source": [
    "# Tacos El G\n",
    "\n",
    "taco_df = scrape_yelp_pages('https://www.yelp.com/biz/tacos-el-g-national-city-7?osq=Tacos')\n",
    "\n",
    "taco_df.head()\n"
   ]
  },
  {
   "cell_type": "code",
   "execution_count": 9,
   "id": "cfc59d26",
   "metadata": {},
   "outputs": [
    {
     "data": {
      "text/plain": [
       "(474, 3)"
      ]
     },
     "execution_count": 9,
     "metadata": {},
     "output_type": "execute_result"
    }
   ],
   "source": [
    "taco_df.shape"
   ]
  },
  {
   "cell_type": "code",
   "execution_count": 10,
   "id": "c7480f78",
   "metadata": {},
   "outputs": [],
   "source": [
    "# To CSV\n",
    "\n",
    "csv_file_path = 'taco_el_g.csv'\n",
    "\n",
    "taco_df.to_csv(csv_file_path, index=False)"
   ]
  },
  {
   "cell_type": "markdown",
   "id": "c5d6abe1",
   "metadata": {},
   "source": [
    "Part 2: Preprocessing & Exploratory Data Analysis"
   ]
  },
  {
   "cell_type": "code",
   "execution_count": 11,
   "id": "b4e6b2e7",
   "metadata": {},
   "outputs": [],
   "source": [
    "# accessing the data \n",
    "pizza_df = pd.read_csv('filippi_1.csv')\n",
    "taco_df = pd.read_csv('taco_el_g_1.csv')"
   ]
  },
  {
   "cell_type": "code",
   "execution_count": 12,
   "id": "114a5839",
   "metadata": {},
   "outputs": [
    {
     "name": "stdout",
     "output_type": "stream",
     "text": [
      "Shape of Pizza Data:  (239, 3)\n",
      "Shape of Taco Data:  (546, 3)\n"
     ]
    }
   ],
   "source": [
    "# doubling checking that data was pulled correctly \n",
    "print(\"Shape of Pizza Data: \", pizza_df.shape)\n",
    "print(\"Shape of Taco Data: \", taco_df.shape)"
   ]
  },
  {
   "cell_type": "code",
   "execution_count": 13,
   "id": "ca802cbe",
   "metadata": {},
   "outputs": [
    {
     "name": "stdout",
     "output_type": "stream",
     "text": [
      "Null Values Present in Pizza Data: \n"
     ]
    },
    {
     "data": {
      "text/plain": [
       "Date           0\n",
       "Review         0\n",
       "Star_Rating    0\n",
       "dtype: int64"
      ]
     },
     "execution_count": 13,
     "metadata": {},
     "output_type": "execute_result"
    }
   ],
   "source": [
    "# checking for null values \n",
    "print(\"Null Values Present in Pizza Data: \")\n",
    "pizza_df.isnull().sum()"
   ]
  },
  {
   "cell_type": "code",
   "execution_count": 14,
   "id": "a7b2b790",
   "metadata": {},
   "outputs": [
    {
     "name": "stdout",
     "output_type": "stream",
     "text": [
      "Null Values Present in Taco Data: \n"
     ]
    },
    {
     "data": {
      "text/plain": [
       "Date           0\n",
       "Review         0\n",
       "Star_Rating    0\n",
       "dtype: int64"
      ]
     },
     "execution_count": 14,
     "metadata": {},
     "output_type": "execute_result"
    }
   ],
   "source": [
    "print(\"Null Values Present in Taco Data: \")\n",
    "taco_df.isnull().sum()"
   ]
  },
  {
   "cell_type": "code",
   "execution_count": 15,
   "id": "15405bed",
   "metadata": {},
   "outputs": [
    {
     "name": "stdout",
     "output_type": "stream",
     "text": [
      "Datatypes Present in Pizza Data: \n"
     ]
    },
    {
     "data": {
      "text/plain": [
       "Date           object\n",
       "Review         object\n",
       "Star_Rating    object\n",
       "dtype: object"
      ]
     },
     "execution_count": 15,
     "metadata": {},
     "output_type": "execute_result"
    }
   ],
   "source": [
    "# checking datatype for each of the variables within the data \n",
    "print(\"Datatypes Present in Pizza Data: \")\n",
    "pizza_df.dtypes"
   ]
  },
  {
   "cell_type": "code",
   "execution_count": 16,
   "id": "5eaaf167",
   "metadata": {},
   "outputs": [
    {
     "name": "stdout",
     "output_type": "stream",
     "text": [
      "Datatypes Present in Taco Data: \n"
     ]
    },
    {
     "data": {
      "text/plain": [
       "Date           object\n",
       "Review         object\n",
       "Star_Rating    object\n",
       "dtype: object"
      ]
     },
     "execution_count": 16,
     "metadata": {},
     "output_type": "execute_result"
    }
   ],
   "source": [
    "print(\"Datatypes Present in Taco Data: \")\n",
    "taco_df.dtypes"
   ]
  },
  {
   "cell_type": "code",
   "execution_count": 17,
   "id": "8f59c786",
   "metadata": {},
   "outputs": [],
   "source": [
    "#renaming columns\n",
    "pizza_df.rename(columns = {'Star Rating':'Star_Rating'}, inplace = True)\n",
    "taco_df.rename(columns = {'Star Rating':'Star_Rating'}, inplace = True)"
   ]
  },
  {
   "cell_type": "code",
   "execution_count": 18,
   "id": "f7a0ab82",
   "metadata": {},
   "outputs": [
    {
     "data": {
      "text/html": [
       "<div>\n",
       "<style scoped>\n",
       "    .dataframe tbody tr th:only-of-type {\n",
       "        vertical-align: middle;\n",
       "    }\n",
       "\n",
       "    .dataframe tbody tr th {\n",
       "        vertical-align: top;\n",
       "    }\n",
       "\n",
       "    .dataframe thead th {\n",
       "        text-align: right;\n",
       "    }\n",
       "</style>\n",
       "<table border=\"1\" class=\"dataframe\">\n",
       "  <thead>\n",
       "    <tr style=\"text-align: right;\">\n",
       "      <th></th>\n",
       "      <th>Date</th>\n",
       "      <th>Review</th>\n",
       "      <th>Star_Rating</th>\n",
       "    </tr>\n",
       "  </thead>\n",
       "  <tbody>\n",
       "    <tr>\n",
       "      <th>0</th>\n",
       "      <td>1/19/23</td>\n",
       "      <td>You've never had a good pizza till you've had ...</td>\n",
       "      <td>5</td>\n",
       "    </tr>\n",
       "    <tr>\n",
       "      <th>1</th>\n",
       "      <td>1/18/23</td>\n",
       "      <td>This is my Kids FAV pizza in town. Yes, it may...</td>\n",
       "      <td>1</td>\n",
       "    </tr>\n",
       "    <tr>\n",
       "      <th>2</th>\n",
       "      <td>12/4/22</td>\n",
       "      <td>I ordered a basil and cheese pizza and it is p...</td>\n",
       "      <td>5</td>\n",
       "    </tr>\n",
       "  </tbody>\n",
       "</table>\n",
       "</div>"
      ],
      "text/plain": [
       "      Date                                             Review Star_Rating\n",
       "0  1/19/23  You've never had a good pizza till you've had ...           5\n",
       "1  1/18/23  This is my Kids FAV pizza in town. Yes, it may...           1\n",
       "2  12/4/22  I ordered a basil and cheese pizza and it is p...           5"
      ]
     },
     "execution_count": 18,
     "metadata": {},
     "output_type": "execute_result"
    }
   ],
   "source": [
    "# fixing the formatting in the \"Star_Rating\" column for pizza df  \n",
    "pizza_df['Star_Rating'] = pizza_df.Star_Rating.str.extract('(\\d+)')\n",
    "\n",
    "# checking \n",
    "pizza_df.head(3)"
   ]
  },
  {
   "cell_type": "code",
   "execution_count": 19,
   "id": "b4f6ae1d",
   "metadata": {},
   "outputs": [
    {
     "data": {
      "text/html": [
       "<div>\n",
       "<style scoped>\n",
       "    .dataframe tbody tr th:only-of-type {\n",
       "        vertical-align: middle;\n",
       "    }\n",
       "\n",
       "    .dataframe tbody tr th {\n",
       "        vertical-align: top;\n",
       "    }\n",
       "\n",
       "    .dataframe thead th {\n",
       "        text-align: right;\n",
       "    }\n",
       "</style>\n",
       "<table border=\"1\" class=\"dataframe\">\n",
       "  <thead>\n",
       "    <tr style=\"text-align: right;\">\n",
       "      <th></th>\n",
       "      <th>Date</th>\n",
       "      <th>Review</th>\n",
       "      <th>Star_Rating</th>\n",
       "    </tr>\n",
       "  </thead>\n",
       "  <tbody>\n",
       "    <tr>\n",
       "      <th>0</th>\n",
       "      <td>5/2/23</td>\n",
       "      <td>It really could have been better because I am ...</td>\n",
       "      <td>4</td>\n",
       "    </tr>\n",
       "    <tr>\n",
       "      <th>1</th>\n",
       "      <td>3/14/23</td>\n",
       "      <td>Tacos are good.\\nPrices were raised though so ...</td>\n",
       "      <td>1</td>\n",
       "    </tr>\n",
       "    <tr>\n",
       "      <th>2</th>\n",
       "      <td>2/19/23</td>\n",
       "      <td>Late night stop with my cousin! Neither of us ...</td>\n",
       "      <td>5</td>\n",
       "    </tr>\n",
       "  </tbody>\n",
       "</table>\n",
       "</div>"
      ],
      "text/plain": [
       "      Date                                             Review Star_Rating\n",
       "0   5/2/23  It really could have been better because I am ...           4\n",
       "1  3/14/23  Tacos are good.\\nPrices were raised though so ...           1\n",
       "2  2/19/23  Late night stop with my cousin! Neither of us ...           5"
      ]
     },
     "execution_count": 19,
     "metadata": {},
     "output_type": "execute_result"
    }
   ],
   "source": [
    "# fixing the formatting in the \"Star_Rating\" column for taco df  \n",
    "taco_df['Star_Rating'] = taco_df.Star_Rating.str.extract('(\\d+)')\n",
    "\n",
    "# checking \n",
    "taco_df.head(3)"
   ]
  },
  {
   "cell_type": "code",
   "execution_count": 20,
   "id": "41b1b984",
   "metadata": {},
   "outputs": [
    {
     "data": {
      "text/html": [
       "<div>\n",
       "<style scoped>\n",
       "    .dataframe tbody tr th:only-of-type {\n",
       "        vertical-align: middle;\n",
       "    }\n",
       "\n",
       "    .dataframe tbody tr th {\n",
       "        vertical-align: top;\n",
       "    }\n",
       "\n",
       "    .dataframe thead th {\n",
       "        text-align: right;\n",
       "    }\n",
       "</style>\n",
       "<table border=\"1\" class=\"dataframe\">\n",
       "  <thead>\n",
       "    <tr style=\"text-align: right;\">\n",
       "      <th></th>\n",
       "      <th>Date</th>\n",
       "      <th>Review</th>\n",
       "      <th>Star_Rating</th>\n",
       "      <th>Restaurant</th>\n",
       "    </tr>\n",
       "  </thead>\n",
       "  <tbody>\n",
       "    <tr>\n",
       "      <th>0</th>\n",
       "      <td>1/19/23</td>\n",
       "      <td>You've never had a good pizza till you've had ...</td>\n",
       "      <td>5</td>\n",
       "      <td>pizza</td>\n",
       "    </tr>\n",
       "    <tr>\n",
       "      <th>1</th>\n",
       "      <td>1/18/23</td>\n",
       "      <td>This is my Kids FAV pizza in town. Yes, it may...</td>\n",
       "      <td>1</td>\n",
       "      <td>pizza</td>\n",
       "    </tr>\n",
       "    <tr>\n",
       "      <th>2</th>\n",
       "      <td>12/4/22</td>\n",
       "      <td>I ordered a basil and cheese pizza and it is p...</td>\n",
       "      <td>5</td>\n",
       "      <td>pizza</td>\n",
       "    </tr>\n",
       "  </tbody>\n",
       "</table>\n",
       "</div>"
      ],
      "text/plain": [
       "      Date                                             Review Star_Rating  \\\n",
       "0  1/19/23  You've never had a good pizza till you've had ...           5   \n",
       "1  1/18/23  This is my Kids FAV pizza in town. Yes, it may...           1   \n",
       "2  12/4/22  I ordered a basil and cheese pizza and it is p...           5   \n",
       "\n",
       "  Restaurant  \n",
       "0      pizza  \n",
       "1      pizza  \n",
       "2      pizza  "
      ]
     },
     "metadata": {},
     "output_type": "display_data"
    },
    {
     "data": {
      "text/html": [
       "<div>\n",
       "<style scoped>\n",
       "    .dataframe tbody tr th:only-of-type {\n",
       "        vertical-align: middle;\n",
       "    }\n",
       "\n",
       "    .dataframe tbody tr th {\n",
       "        vertical-align: top;\n",
       "    }\n",
       "\n",
       "    .dataframe thead th {\n",
       "        text-align: right;\n",
       "    }\n",
       "</style>\n",
       "<table border=\"1\" class=\"dataframe\">\n",
       "  <thead>\n",
       "    <tr style=\"text-align: right;\">\n",
       "      <th></th>\n",
       "      <th>Date</th>\n",
       "      <th>Review</th>\n",
       "      <th>Star_Rating</th>\n",
       "      <th>Restaurant</th>\n",
       "    </tr>\n",
       "  </thead>\n",
       "  <tbody>\n",
       "    <tr>\n",
       "      <th>0</th>\n",
       "      <td>5/2/23</td>\n",
       "      <td>It really could have been better because I am ...</td>\n",
       "      <td>4</td>\n",
       "      <td>taco</td>\n",
       "    </tr>\n",
       "    <tr>\n",
       "      <th>1</th>\n",
       "      <td>3/14/23</td>\n",
       "      <td>Tacos are good.\\nPrices were raised though so ...</td>\n",
       "      <td>1</td>\n",
       "      <td>taco</td>\n",
       "    </tr>\n",
       "    <tr>\n",
       "      <th>2</th>\n",
       "      <td>2/19/23</td>\n",
       "      <td>Late night stop with my cousin! Neither of us ...</td>\n",
       "      <td>5</td>\n",
       "      <td>taco</td>\n",
       "    </tr>\n",
       "  </tbody>\n",
       "</table>\n",
       "</div>"
      ],
      "text/plain": [
       "      Date                                             Review Star_Rating  \\\n",
       "0   5/2/23  It really could have been better because I am ...           4   \n",
       "1  3/14/23  Tacos are good.\\nPrices were raised though so ...           1   \n",
       "2  2/19/23  Late night stop with my cousin! Neither of us ...           5   \n",
       "\n",
       "  Restaurant  \n",
       "0       taco  \n",
       "1       taco  \n",
       "2       taco  "
      ]
     },
     "metadata": {},
     "output_type": "display_data"
    }
   ],
   "source": [
    "# adding the resturant name to each dataset -> ease of differentiation when combining later \n",
    "pizza_df['Restaurant'] = \"pizza\"\n",
    "taco_df['Restaurant'] = \"taco\"\n",
    "\n",
    "# checking \n",
    "display(pizza_df.head(3), taco_df.head(3))"
   ]
  },
  {
   "cell_type": "code",
   "execution_count": 21,
   "id": "ce0365cc",
   "metadata": {},
   "outputs": [
    {
     "name": "stdout",
     "output_type": "stream",
     "text": [
      "Shape of Combined Data:  (785, 4)\n"
     ]
    }
   ],
   "source": [
    "# merging the dataframes \n",
    "pt_df = pd.concat([pizza_df, taco_df],    # Combine vertically\n",
    "                          ignore_index = True,\n",
    "                          sort = False)\n",
    "\n",
    "# checking that nothing was lost -> total should be 785 (Pizza = 239 + Tacos = 546)\n",
    "print(\"Shape of Combined Data: \", pt_df.shape)"
   ]
  },
  {
   "cell_type": "code",
   "execution_count": 22,
   "id": "8a010f6e",
   "metadata": {},
   "outputs": [
    {
     "data": {
      "text/html": [
       "<div>\n",
       "<style scoped>\n",
       "    .dataframe tbody tr th:only-of-type {\n",
       "        vertical-align: middle;\n",
       "    }\n",
       "\n",
       "    .dataframe tbody tr th {\n",
       "        vertical-align: top;\n",
       "    }\n",
       "\n",
       "    .dataframe thead th {\n",
       "        text-align: right;\n",
       "    }\n",
       "</style>\n",
       "<table border=\"1\" class=\"dataframe\">\n",
       "  <thead>\n",
       "    <tr style=\"text-align: right;\">\n",
       "      <th></th>\n",
       "      <th>Date</th>\n",
       "      <th>Review</th>\n",
       "      <th>Star_Rating</th>\n",
       "      <th>Restaurant</th>\n",
       "      <th>Customer_Sentiment</th>\n",
       "    </tr>\n",
       "  </thead>\n",
       "  <tbody>\n",
       "    <tr>\n",
       "      <th>0</th>\n",
       "      <td>1/19/23</td>\n",
       "      <td>You've never had a good pizza till you've had ...</td>\n",
       "      <td>5</td>\n",
       "      <td>pizza</td>\n",
       "      <td>positive</td>\n",
       "    </tr>\n",
       "    <tr>\n",
       "      <th>1</th>\n",
       "      <td>1/18/23</td>\n",
       "      <td>This is my Kids FAV pizza in town. Yes, it may...</td>\n",
       "      <td>1</td>\n",
       "      <td>pizza</td>\n",
       "      <td>negative</td>\n",
       "    </tr>\n",
       "    <tr>\n",
       "      <th>2</th>\n",
       "      <td>12/4/22</td>\n",
       "      <td>I ordered a basil and cheese pizza and it is p...</td>\n",
       "      <td>5</td>\n",
       "      <td>pizza</td>\n",
       "      <td>positive</td>\n",
       "    </tr>\n",
       "  </tbody>\n",
       "</table>\n",
       "</div>"
      ],
      "text/plain": [
       "      Date                                             Review  Star_Rating  \\\n",
       "0  1/19/23  You've never had a good pizza till you've had ...            5   \n",
       "1  1/18/23  This is my Kids FAV pizza in town. Yes, it may...            1   \n",
       "2  12/4/22  I ordered a basil and cheese pizza and it is p...            5   \n",
       "\n",
       "  Restaurant Customer_Sentiment  \n",
       "0      pizza           positive  \n",
       "1      pizza           negative  \n",
       "2      pizza           positive  "
      ]
     },
     "execution_count": 22,
     "metadata": {},
     "output_type": "execute_result"
    }
   ],
   "source": [
    "# changing star_rating to int otherwise will obtain the following error for the next step: \n",
    "# TypeError: '>=' not supported between instances of 'str' and 'int'\n",
    "pt_df['Star_Rating'] = pt_df['Star_Rating'].astype(str).astype(int)\n",
    "\n",
    "# adding a customer sentiment towards to resturant based on the star rating recieved \n",
    "pt_df['Customer_Sentiment'] = np.where(pt_df['Star_Rating'] >= 3, 'positive', 'negative')\n",
    "\n",
    "# checking \n",
    "pt_df.head(3)"
   ]
  },
  {
   "cell_type": "code",
   "execution_count": 23,
   "id": "5df66484",
   "metadata": {},
   "outputs": [
    {
     "data": {
      "text/html": [
       "<div>\n",
       "<style scoped>\n",
       "    .dataframe tbody tr th:only-of-type {\n",
       "        vertical-align: middle;\n",
       "    }\n",
       "\n",
       "    .dataframe tbody tr th {\n",
       "        vertical-align: top;\n",
       "    }\n",
       "\n",
       "    .dataframe thead th {\n",
       "        text-align: right;\n",
       "    }\n",
       "</style>\n",
       "<table border=\"1\" class=\"dataframe\">\n",
       "  <thead>\n",
       "    <tr style=\"text-align: right;\">\n",
       "      <th></th>\n",
       "      <th>Date</th>\n",
       "      <th>Star_Rating</th>\n",
       "      <th>Restaurant</th>\n",
       "      <th>Customer_Sentiment</th>\n",
       "      <th>Review</th>\n",
       "    </tr>\n",
       "  </thead>\n",
       "  <tbody>\n",
       "    <tr>\n",
       "      <th>0</th>\n",
       "      <td>1/19/23</td>\n",
       "      <td>5</td>\n",
       "      <td>pizza</td>\n",
       "      <td>positive</td>\n",
       "      <td>You've never had a good pizza till you've had ...</td>\n",
       "    </tr>\n",
       "  </tbody>\n",
       "</table>\n",
       "</div>"
      ],
      "text/plain": [
       "      Date  Star_Rating Restaurant Customer_Sentiment  \\\n",
       "0  1/19/23            5      pizza           positive   \n",
       "\n",
       "                                              Review  \n",
       "0  You've never had a good pizza till you've had ...  "
      ]
     },
     "execution_count": 23,
     "metadata": {},
     "output_type": "execute_result"
    }
   ],
   "source": [
    "# reorganizing column order for ease of use \n",
    "pt_df = pt_df.reindex(columns=['Date', 'Star_Rating', 'Restaurant', \n",
    "                               'Customer_Sentiment', 'Review'])\n",
    "\n",
    "# checking \n",
    "pt_df.head(1)"
   ]
  },
  {
   "cell_type": "code",
   "execution_count": 24,
   "id": "dfb0814d",
   "metadata": {},
   "outputs": [],
   "source": [
    "# cleaning/tokenizing/normalizing/pattern functions: \n",
    "\n",
    "# punctuation variations\n",
    "punctuation = set(punctuation) # speeds up comparison\n",
    "tw_punct = punctuation - {\"#\"}\n",
    "\n",
    "# stopwords\n",
    "sw = stopwords.words(\"english\")\n",
    "# sw.extend([\"tacos\"])\n",
    "\n",
    "# helper functions\n",
    "def descriptive_stats(tokens, num_tokens = 5, verbose=True) :\n",
    "    num_tokens = len(tokens) \n",
    "    num_unique_tokens = len(set(tokens))\n",
    "    lexical_diversity = num_unique_tokens / num_tokens\n",
    "    num_characters = sum(len(i) for i in tokens)\n",
    "    \n",
    "    if verbose :        \n",
    "        print(f\"There are {num_tokens} tokens in the data.\")\n",
    "        print(f\"There are {num_unique_tokens} unique tokens in the data.\")\n",
    "        print(f\"There are {num_characters} characters in the data.\")\n",
    "        print(f\"The lexical diversity is {lexical_diversity:.3f} in the data.\")\n",
    "        print(\"The top 5 most common tokens\")\n",
    "        print(Counter(tokens).most_common(5))\n",
    "        \n",
    "    return([num_tokens, num_unique_tokens,\n",
    "            lexical_diversity,\n",
    "            num_characters])\n",
    "\n",
    "def remove_stop(tokens) :\n",
    "    return[i for i in tokens if i.lower() not in sw]\n",
    "\n",
    "def remove_punctuation(text, punct_set=tw_punct) : \n",
    "    return(\"\".join([ch for ch in text if ch not in punct_set]))\n",
    "def tokenize(text) : \n",
    "    text = text.split()\n",
    "    return(text)\n",
    "\n",
    "def prepare(text, pipeline) : \n",
    "    tokens = str(text)\n",
    "    \n",
    "    for transform in pipeline : \n",
    "        tokens = transform(tokens)\n",
    "        \n",
    "    return(tokens)\n",
    "\n",
    "# cleaning pipeline: case folding, fixing punctuation, tokenizing, and removing stopwords \n",
    "clean_pipe = [str.lower, remove_punctuation, tokenize, remove_stop]"
   ]
  },
  {
   "cell_type": "code",
   "execution_count": 25,
   "id": "89532fb3",
   "metadata": {},
   "outputs": [
    {
     "data": {
      "text/html": [
       "<div>\n",
       "<style scoped>\n",
       "    .dataframe tbody tr th:only-of-type {\n",
       "        vertical-align: middle;\n",
       "    }\n",
       "\n",
       "    .dataframe tbody tr th {\n",
       "        vertical-align: top;\n",
       "    }\n",
       "\n",
       "    .dataframe thead th {\n",
       "        text-align: right;\n",
       "    }\n",
       "</style>\n",
       "<table border=\"1\" class=\"dataframe\">\n",
       "  <thead>\n",
       "    <tr style=\"text-align: right;\">\n",
       "      <th></th>\n",
       "      <th>Date</th>\n",
       "      <th>Star_Rating</th>\n",
       "      <th>Restaurant</th>\n",
       "      <th>Customer_Sentiment</th>\n",
       "      <th>Review</th>\n",
       "      <th>tokens</th>\n",
       "      <th>num_tokens</th>\n",
       "      <th>polarity</th>\n",
       "    </tr>\n",
       "  </thead>\n",
       "  <tbody>\n",
       "    <tr>\n",
       "      <th>0</th>\n",
       "      <td>1/19/23</td>\n",
       "      <td>5</td>\n",
       "      <td>pizza</td>\n",
       "      <td>positive</td>\n",
       "      <td>You've never had a good pizza till you've had ...</td>\n",
       "      <td>[youve, never, good, pizza, till, youve, pizza...</td>\n",
       "      <td>17</td>\n",
       "      <td>0.477778</td>\n",
       "    </tr>\n",
       "    <tr>\n",
       "      <th>1</th>\n",
       "      <td>1/18/23</td>\n",
       "      <td>1</td>\n",
       "      <td>pizza</td>\n",
       "      <td>negative</td>\n",
       "      <td>This is my Kids FAV pizza in town. Yes, it may...</td>\n",
       "      <td>[kids, fav, pizza, town, yes, may, 2x, 3x, cos...</td>\n",
       "      <td>55</td>\n",
       "      <td>0.013636</td>\n",
       "    </tr>\n",
       "    <tr>\n",
       "      <th>2</th>\n",
       "      <td>12/4/22</td>\n",
       "      <td>5</td>\n",
       "      <td>pizza</td>\n",
       "      <td>positive</td>\n",
       "      <td>I ordered a basil and cheese pizza and it is p...</td>\n",
       "      <td>[ordered, basil, cheese, pizza, phenomenal, ch...</td>\n",
       "      <td>34</td>\n",
       "      <td>0.600000</td>\n",
       "    </tr>\n",
       "    <tr>\n",
       "      <th>3</th>\n",
       "      <td>8/26/16</td>\n",
       "      <td>5</td>\n",
       "      <td>pizza</td>\n",
       "      <td>positive</td>\n",
       "      <td>Myself, and my dear Friend and her daughter vi...</td>\n",
       "      <td>[dear, friend, daughter, visited, may, 13, lat...</td>\n",
       "      <td>53</td>\n",
       "      <td>-0.059167</td>\n",
       "    </tr>\n",
       "    <tr>\n",
       "      <th>4</th>\n",
       "      <td>2/13/15</td>\n",
       "      <td>4</td>\n",
       "      <td>pizza</td>\n",
       "      <td>positive</td>\n",
       "      <td>Me and my co-workers went to this location for...</td>\n",
       "      <td>[coworkers, went, location, first, time, picke...</td>\n",
       "      <td>29</td>\n",
       "      <td>-0.069444</td>\n",
       "    </tr>\n",
       "  </tbody>\n",
       "</table>\n",
       "</div>"
      ],
      "text/plain": [
       "      Date  Star_Rating Restaurant Customer_Sentiment  \\\n",
       "0  1/19/23            5      pizza           positive   \n",
       "1  1/18/23            1      pizza           negative   \n",
       "2  12/4/22            5      pizza           positive   \n",
       "3  8/26/16            5      pizza           positive   \n",
       "4  2/13/15            4      pizza           positive   \n",
       "\n",
       "                                              Review  \\\n",
       "0  You've never had a good pizza till you've had ...   \n",
       "1  This is my Kids FAV pizza in town. Yes, it may...   \n",
       "2  I ordered a basil and cheese pizza and it is p...   \n",
       "3  Myself, and my dear Friend and her daughter vi...   \n",
       "4  Me and my co-workers went to this location for...   \n",
       "\n",
       "                                              tokens  num_tokens  polarity  \n",
       "0  [youve, never, good, pizza, till, youve, pizza...          17  0.477778  \n",
       "1  [kids, fav, pizza, town, yes, may, 2x, 3x, cos...          55  0.013636  \n",
       "2  [ordered, basil, cheese, pizza, phenomenal, ch...          34  0.600000  \n",
       "3  [dear, friend, daughter, visited, may, 13, lat...          53 -0.059167  \n",
       "4  [coworkers, went, location, first, time, picke...          29 -0.069444  "
      ]
     },
     "execution_count": 25,
     "metadata": {},
     "output_type": "execute_result"
    }
   ],
   "source": [
    "# applying pipeline\n",
    "pt_df[\"tokens\"] = pt_df[\"Review\"].apply(prepare,pipeline=clean_pipe)\n",
    "pt_df[\"num_tokens\"] = pt_df[\"tokens\"].map(len) \n",
    "\n",
    "# using textblot to calculate sentiment polarity [-1, 1]: 1=+, -1=-, 0=neutral\n",
    "pt_df['polarity'] = pt_df['Review'].map(lambda text: TextBlob(text).sentiment.polarity)\n",
    "\n",
    "# check \n",
    "pt_df.head(5)"
   ]
  },
  {
   "cell_type": "code",
   "execution_count": 26,
   "id": "9cadfb59",
   "metadata": {},
   "outputs": [
    {
     "name": "stdout",
     "output_type": "stream",
     "text": [
      "5 random Reviews with the Highest Positive Sentiment Polarity: \n",
      "\n",
      "As legit as there locations in BC, it's the best taco shop in town.\n",
      "best. tacos. i've. ever. eaten.\n",
      "\n",
      "ever.\n",
      "\n",
      "holygod.\n",
      "\n",
      "______________________ This is me speechless.\n",
      "Off the damn chain. Amazing place. !!!!   !!!      !!!!!!!!!!!!!!!!!!!!!!!!!!!!!!!!!!!!!!!!!!!!!!     !!!!!!!!!!!!!!!!!!!!!!!!!!!!!!!!!!\n",
      "Tacos de Adobado are delicious, also recommend their quesadillas.\n",
      "Oh my god!!!\n",
      "\n",
      "Best Tacos in all San DIego.\n",
      "\n",
      "This is a must go!\n"
     ]
    }
   ],
   "source": [
    "# Looking at the Reviews associated with Positive Sentiment \n",
    "print('5 random Reviews with the Highest Positive Sentiment Polarity: \\n')\n",
    "cl = pt_df.loc[pt_df.polarity == 1, ['Review']].sample(5).values\n",
    "for c in cl:\n",
    "    print(c[0])"
   ]
  },
  {
   "cell_type": "code",
   "execution_count": 27,
   "id": "da1150bb",
   "metadata": {},
   "outputs": [
    {
     "name": "stdout",
     "output_type": "stream",
     "text": [
      "5 random Reviews with the Highest Neutral Sentiment Polarity: \n",
      "\n",
      "At the peak of a global pandemic, this guy has the guts to prepare food with no face covering. I'm hungry but not that hungry.\n",
      "I went with my family to eat at this place.\n",
      "The cashier make us have an embarrassing moment when she tried to charge us twice the food, we had to find the tickets and show them to her, then she went to our table and count everithing again\n",
      "After all the show she did, she didn't apologize\n",
      "We feel everybody was looking at us\n",
      "Salí de trabajar cansado y con hambre ordene y todo bien y luego fui a ordenar la comida y recibieron mi ticket esperando mi comida pasaron 20 minutos y nunca me hicieron mi comida, siempre vengo aquí y es la primera vez que el servicio está pa la chingada no se que estaba pasando pero no modo voy para otro lado para taco Tuesday\n",
      "I'm not a big fan of Mexican food, but I'd drive 100 miles south for some Adobada tacos from Tacos El Gordo! That's all I can say.\n",
      "On sat 1-25-2014 just found two hairs in our tacos one in asada and one in a tripa tacos so you tell me.... buyer beware hairy food....\n"
     ]
    }
   ],
   "source": [
    "# Looking at the Reviews associated with Neutral Sentiment \n",
    "print('5 random Reviews with the Highest Neutral Sentiment Polarity: \\n')\n",
    "cl = pt_df.loc[pt_df.polarity == 0, ['Review']].sample(5).values\n",
    "for c in cl:\n",
    "    print(c[0])"
   ]
  },
  {
   "cell_type": "code",
   "execution_count": 28,
   "id": "fec51977",
   "metadata": {},
   "outputs": [
    {
     "name": "stdout",
     "output_type": "stream",
     "text": [
      "5 random Reviews with the Highest Negative Sentiment Polarity: \n",
      "\n",
      "Waited 30 minutes in line to find out your ATM machine was offline and not working. Didn't have cash on me. The LEAST you guys could've done was given me my order for free considering you had already started making it. 2 mulas. Damn. Y'all sell a billion tacos per week. STINGY. And that rule of not taking order until you get to the window - the WORST. Canceled for me.\n",
      "Horrible service!!! I guess this place is not a tacos el gordo location anymore... I ordered to go. They made me wait forever to get four tacos. I was not given lemons or radishes with my order. I went inside and the lady said that they only provide with lemons and radishes if I request them. Really?? How am I supposed to know that?? It is a to go order lady... what about asking customers or posting a sign by the drive through window...no common sense. the lady never apologize for the bad service. I'm never coming back!\n",
      "Stood there for twenty minutes and could not get service because of their poor line system and inattentive chefs. Left with nada. Disappointing and a waste of time.\n",
      "the crust was thick with no taste.  the sauce was lacking. no flavor.\n",
      "I am a huge pizza fan and had pizza from places all over the country as I travel often.  this is the worst.\n",
      "I WISH I COULD GIVE 0 STARS! This place sucked! DO NOT GO HERE! Unless you like burnt and cold food. It also smelled summer gross inside\n"
     ]
    }
   ],
   "source": [
    "# Looking at the Reviews associated with Negative Sentiment \n",
    "print('5 random Reviews with the Highest Negative Sentiment Polarity: \\n')\n",
    "cl = pt_df.loc[pt_df.polarity == -0.3, ['Review']].sample(5).values\n",
    "for c in cl:\n",
    "    print(c[0])"
   ]
  },
  {
   "cell_type": "code",
   "execution_count": 29,
   "id": "ee593fb7",
   "metadata": {},
   "outputs": [
    {
     "data": {
      "image/png": "[encoded data removed]",
      "text/plain": [
       "<Figure size 432x288 with 1 Axes>"
      ]
     },
     "metadata": {},
     "output_type": "display_data"
    }
   ],
   "source": [
    "# distribution of polarity \n",
    "sns.set(style=\"darkgrid\")\n",
    "sns.histplot(data=pt_df, x=\"polarity\").set(title='Sentiment Polarity Distribution')\n",
    "plt.show()"
   ]
  },
  {
   "cell_type": "code",
   "execution_count": 30,
   "id": "04e8e507",
   "metadata": {},
   "outputs": [
    {
     "data": {
      "image/png": "[encoded data removed]",
      "text/plain": [
       "<Figure size 432x288 with 1 Axes>"
      ]
     },
     "metadata": {},
     "output_type": "display_data"
    }
   ],
   "source": [
    "# distribution of star_rating \n",
    "sns.set(style=\"darkgrid\")\n",
    "sns.histplot(data=pt_df, x=\"Star_Rating\").set(title='Star Ratings of Restaurants')\n",
    "plt.show()"
   ]
  },
  {
   "cell_type": "code",
   "execution_count": 31,
   "id": "4ac3d49a",
   "metadata": {},
   "outputs": [
    {
     "data": {
      "image/png": "[encoded data removed]",
      "text/plain": [
       "<Figure size 432x288 with 1 Axes>"
      ]
     },
     "metadata": {},
     "output_type": "display_data"
    }
   ],
   "source": [
    "# distribution of review text lengths \n",
    "sns.set(style=\"darkgrid\")\n",
    "sns.histplot(data=pt_df, x=\"num_tokens\").set(title='Review Length Distribution')\n",
    "plt.show()"
   ]
  },
  {
   "cell_type": "code",
   "execution_count": 32,
   "id": "a514bc16",
   "metadata": {},
   "outputs": [
    {
     "data": {
      "text/plain": [
       "Customer_Sentiment\n",
       "negative    AxesSubplot(0.125,0.125;0.775x0.755)\n",
       "positive    AxesSubplot(0.125,0.125;0.775x0.755)\n",
       "Name: num_tokens, dtype: object"
      ]
     },
     "execution_count": 32,
     "metadata": {},
     "output_type": "execute_result"
    },
    {
     "data": {
      "image/png": "[encoded data removed]",
      "text/plain": [
       "<Figure size 432x288 with 1 Axes>"
      ]
     },
     "metadata": {},
     "output_type": "display_data"
    }
   ],
   "source": [
    "# distribution of review word count \n",
    "pt_df.groupby('Customer_Sentiment')['num_tokens'].plot(legend=True)"
   ]
  },
  {
   "cell_type": "code",
   "execution_count": 33,
   "id": "d68b8ee5",
   "metadata": {},
   "outputs": [
    {
     "data": {
      "image/png": "[encoded data removed]",
      "text/plain": [
       "<Figure size 432x288 with 1 Axes>"
      ]
     },
     "metadata": {},
     "output_type": "display_data"
    }
   ],
   "source": [
    "# distribution of positive vs negative reviews \n",
    "sns.set(style=\"darkgrid\")\n",
    "sns.histplot(data=pt_df, x=\"Customer_Sentiment\").set(title='Customer Sentiment')\n",
    "plt.show()"
   ]
  },
  {
   "cell_type": "code",
   "execution_count": 34,
   "id": "c8401846",
   "metadata": {},
   "outputs": [
    {
     "name": "stdout",
     "output_type": "stream",
     "text": [
      "\n",
      " Descriptive Stats: Positive Reviews \n",
      "\n",
      "There are 26457 tokens in the data.\n",
      "There are 4111 unique tokens in the data.\n",
      "There are 140675 characters in the data.\n",
      "The lexical diversity is 0.155 in the data.\n",
      "The top 5 most common tokens\n",
      "[('tacos', 813), ('food', 297), ('good', 286), ('place', 281), ('taco', 255)]\n",
      "\n",
      " Descriptive Stats: Negative Reviews \n",
      "\n",
      "There are 9503 tokens in the data.\n",
      "There are 2434 unique tokens in the data.\n",
      "There are 50865 characters in the data.\n",
      "The lexical diversity is 0.256 in the data.\n",
      "The top 5 most common tokens\n",
      "[('tacos', 250), ('place', 114), ('food', 106), ('good', 99), ('get', 78)]\n"
     ]
    },
    {
     "data": {
      "text/plain": [
       "[9503, 2434, 0.25612964327054616, 50865]"
      ]
     },
     "execution_count": 34,
     "metadata": {},
     "output_type": "execute_result"
    }
   ],
   "source": [
    "# descriptive stats for positive vs negative reviews \n",
    "\n",
    "# defining a fxn to pull the descriptive stats \n",
    "def f_descriptive_stats(li):\n",
    "    w_l = [i for s in li for i in s]\n",
    "    return descriptive_stats(w_l)\n",
    "\n",
    "# descriptive stats for positive reviews\n",
    "print(\"\\n Descriptive Stats: Positive Reviews \\n\")\n",
    "f_descriptive_stats(pt_df[pt_df['Customer_Sentiment']=='positive']['tokens'])\n",
    "\n",
    "# descriptive stats for negative reviews \n",
    "print(\"\\n Descriptive Stats: Negative Reviews \\n\")\n",
    "f_descriptive_stats(pt_df[pt_df['Customer_Sentiment']=='negative']['tokens'])"
   ]
  },
  {
   "cell_type": "code",
   "execution_count": 35,
   "id": "cf6dbfbf",
   "metadata": {},
   "outputs": [],
   "source": [
    "# wordcloud function obtained from Blueprints for Text Analytics Using Python textbook\n",
    "def wordcloud(word_freq, title=None, max_words=200, stopwords=None):\n",
    "\n",
    "    wc = WordCloud(width=800, height=400, \n",
    "                   background_color= \"black\", colormap=\"Paired\", \n",
    "                   max_font_size=150, max_words=max_words)\n",
    "    \n",
    "    # convert data frame into dict\n",
    "    if type(word_freq) == pd.Series:\n",
    "        counter = Counter(word_freq.fillna(0).to_dict())\n",
    "    else:\n",
    "        counter = word_freq\n",
    "\n",
    "    # filter stop words in frequency counter\n",
    "    if stopwords is not None:\n",
    "        counter = {token:freq for (token, freq) in counter.items() \n",
    "                              if token not in stopwords}\n",
    "    wc.generate_from_frequencies(counter)\n",
    " \n",
    "    plt.title(title) \n",
    "\n",
    "    plt.imshow(wc, interpolation='bilinear')\n",
    "    plt.axis(\"off\")\n",
    "def count_words(df, column='tokens', preprocess=None, min_freq=2):\n",
    "\n",
    "    # process tokens and update counter\n",
    "    def update(doc):\n",
    "        tokens = doc if preprocess is None else preprocess(doc)\n",
    "        counter.update(tokens)\n",
    "\n",
    "    # create counter and run through all data\n",
    "    counter = Counter()\n",
    "    df[column].map(update)\n",
    "\n",
    "    # transform counter into data frame\n",
    "    freq_df = pd.DataFrame.from_dict(counter, orient='index', columns=['freq'])\n",
    "    freq_df = freq_df.query('freq >= @min_freq')\n",
    "    freq_df.index.name = 'token'\n",
    "    \n",
    "    return freq_df.sort_values('freq', ascending=False)"
   ]
  },
  {
   "cell_type": "code",
   "execution_count": 36,
   "id": "a3006760",
   "metadata": {},
   "outputs": [
    {
     "name": "stdout",
     "output_type": "stream",
     "text": [
      "WORDCLOUD FOR POSITIVE REVIEWS\n"
     ]
    },
    {
     "ename": "AttributeError",
     "evalue": "'TransposedFont' object has no attribute 'getbbox'",
     "output_type": "error",
     "traceback": [
      "\u001b[1;31m---------------------------------------------------------------------------\u001b[0m",
      "\u001b[1;31mAttributeError\u001b[0m                            Traceback (most recent call last)",
      "\u001b[1;32m<ipython-input-36-741d317e1897>\u001b[0m in \u001b[0;36m<module>\u001b[1;34m\u001b[0m\n\u001b[0;32m      2\u001b[0m \u001b[0mpositive_lcount\u001b[0m \u001b[1;33m=\u001b[0m \u001b[0mcount_words\u001b[0m\u001b[1;33m(\u001b[0m\u001b[0mpt_df\u001b[0m\u001b[1;33m[\u001b[0m\u001b[0mpt_df\u001b[0m\u001b[1;33m[\u001b[0m\u001b[1;34m'Customer_Sentiment'\u001b[0m\u001b[1;33m]\u001b[0m\u001b[1;33m==\u001b[0m\u001b[1;34m'positive'\u001b[0m\u001b[1;33m]\u001b[0m\u001b[1;33m)\u001b[0m\u001b[1;33m\u001b[0m\u001b[1;33m\u001b[0m\u001b[0m\n\u001b[0;32m      3\u001b[0m \u001b[0mprint\u001b[0m\u001b[1;33m(\u001b[0m\u001b[1;34m'WORDCLOUD FOR POSITIVE REVIEWS'\u001b[0m\u001b[1;33m)\u001b[0m\u001b[1;33m\u001b[0m\u001b[1;33m\u001b[0m\u001b[0m\n\u001b[1;32m----> 4\u001b[1;33m \u001b[0mwordcloud\u001b[0m\u001b[1;33m(\u001b[0m\u001b[0mpositive_lcount\u001b[0m\u001b[1;33m.\u001b[0m\u001b[0msqueeze\u001b[0m\u001b[1;33m(\u001b[0m\u001b[1;33m)\u001b[0m\u001b[1;33m)\u001b[0m\u001b[1;33m\u001b[0m\u001b[1;33m\u001b[0m\u001b[0m\n\u001b[0m",
      "\u001b[1;32m<ipython-input-35-cedc8ff138bb>\u001b[0m in \u001b[0;36mwordcloud\u001b[1;34m(word_freq, title, max_words, stopwords)\u001b[0m\n\u001b[0;32m     16\u001b[0m         counter = {token:freq for (token, freq) in counter.items() \n\u001b[0;32m     17\u001b[0m                               if token not in stopwords}\n\u001b[1;32m---> 18\u001b[1;33m     \u001b[0mwc\u001b[0m\u001b[1;33m.\u001b[0m\u001b[0mgenerate_from_frequencies\u001b[0m\u001b[1;33m(\u001b[0m\u001b[0mcounter\u001b[0m\u001b[1;33m)\u001b[0m\u001b[1;33m\u001b[0m\u001b[1;33m\u001b[0m\u001b[0m\n\u001b[0m\u001b[0;32m     19\u001b[0m \u001b[1;33m\u001b[0m\u001b[0m\n\u001b[0;32m     20\u001b[0m     \u001b[0mplt\u001b[0m\u001b[1;33m.\u001b[0m\u001b[0mtitle\u001b[0m\u001b[1;33m(\u001b[0m\u001b[0mtitle\u001b[0m\u001b[1;33m)\u001b[0m\u001b[1;33m\u001b[0m\u001b[1;33m\u001b[0m\u001b[0m\n",
      "\u001b[1;32mC:\\ProgramData\\Anaconda3\\lib\\site-packages\\wordcloud\\wordcloud.py\u001b[0m in \u001b[0;36mgenerate_from_frequencies\u001b[1;34m(self, frequencies, max_font_size)\u001b[0m\n\u001b[0;32m    506\u001b[0m                     font, orientation=orientation)\n\u001b[0;32m    507\u001b[0m                 \u001b[1;31m# get size of resulting text\u001b[0m\u001b[1;33m\u001b[0m\u001b[1;33m\u001b[0m\u001b[1;33m\u001b[0m\u001b[0m\n\u001b[1;32m--> 508\u001b[1;33m                 \u001b[0mbox_size\u001b[0m \u001b[1;33m=\u001b[0m \u001b[0mdraw\u001b[0m\u001b[1;33m.\u001b[0m\u001b[0mtextbbox\u001b[0m\u001b[1;33m(\u001b[0m\u001b[1;33m(\u001b[0m\u001b[1;36m0\u001b[0m\u001b[1;33m,\u001b[0m \u001b[1;36m0\u001b[0m\u001b[1;33m)\u001b[0m\u001b[1;33m,\u001b[0m \u001b[0mword\u001b[0m\u001b[1;33m,\u001b[0m \u001b[0mfont\u001b[0m\u001b[1;33m=\u001b[0m\u001b[0mtransposed_font\u001b[0m\u001b[1;33m,\u001b[0m \u001b[0manchor\u001b[0m\u001b[1;33m=\u001b[0m\u001b[1;34m\"lt\"\u001b[0m\u001b[1;33m)\u001b[0m\u001b[1;33m\u001b[0m\u001b[1;33m\u001b[0m\u001b[0m\n\u001b[0m\u001b[0;32m    509\u001b[0m                 \u001b[1;31m# find possible places using integral image:\u001b[0m\u001b[1;33m\u001b[0m\u001b[1;33m\u001b[0m\u001b[1;33m\u001b[0m\u001b[0m\n\u001b[0;32m    510\u001b[0m                 result = occupancy.sample_position(box_size[3] + self.margin,\n",
      "\u001b[1;32mC:\\ProgramData\\Anaconda3\\lib\\site-packages\\PIL\\ImageDraw.py\u001b[0m in \u001b[0;36mtextbbox\u001b[1;34m(self, xy, text, font, anchor, spacing, align, direction, features, language, stroke_width, embedded_color)\u001b[0m\n\u001b[0;32m    655\u001b[0m             \u001b[0mfont\u001b[0m \u001b[1;33m=\u001b[0m \u001b[0mself\u001b[0m\u001b[1;33m.\u001b[0m\u001b[0mgetfont\u001b[0m\u001b[1;33m(\u001b[0m\u001b[1;33m)\u001b[0m\u001b[1;33m\u001b[0m\u001b[1;33m\u001b[0m\u001b[0m\n\u001b[0;32m    656\u001b[0m         \u001b[0mmode\u001b[0m \u001b[1;33m=\u001b[0m \u001b[1;34m\"RGBA\"\u001b[0m \u001b[1;32mif\u001b[0m \u001b[0membedded_color\u001b[0m \u001b[1;32melse\u001b[0m \u001b[0mself\u001b[0m\u001b[1;33m.\u001b[0m\u001b[0mfontmode\u001b[0m\u001b[1;33m\u001b[0m\u001b[1;33m\u001b[0m\u001b[0m\n\u001b[1;32m--> 657\u001b[1;33m         bbox = font.getbbox(\n\u001b[0m\u001b[0;32m    658\u001b[0m             \u001b[0mtext\u001b[0m\u001b[1;33m,\u001b[0m \u001b[0mmode\u001b[0m\u001b[1;33m,\u001b[0m \u001b[0mdirection\u001b[0m\u001b[1;33m,\u001b[0m \u001b[0mfeatures\u001b[0m\u001b[1;33m,\u001b[0m \u001b[0mlanguage\u001b[0m\u001b[1;33m,\u001b[0m \u001b[0mstroke_width\u001b[0m\u001b[1;33m,\u001b[0m \u001b[0manchor\u001b[0m\u001b[1;33m\u001b[0m\u001b[1;33m\u001b[0m\u001b[0m\n\u001b[0;32m    659\u001b[0m         )\n",
      "\u001b[1;31mAttributeError\u001b[0m: 'TransposedFont' object has no attribute 'getbbox'"
     ]
    }
   ],
   "source": [
    "# positive reviews wordcloud\n",
    "positive_lcount = count_words(pt_df[pt_df['Customer_Sentiment']=='positive'])\n",
    "print('WORDCLOUD FOR POSITIVE REVIEWS')\n",
    "wordcloud(positive_lcount.squeeze())"
   ]
  },
  {
   "cell_type": "code",
   "execution_count": null,
   "id": "34881671",
   "metadata": {},
   "outputs": [],
   "source": [
    "# negative reviews wordcloud\n",
    "neg_lcount = count_words(pt_df[pt_df['Customer_Sentiment']=='negative'])\n",
    "print('WORDCLOUD FOR NEGATIVE REVIEWS')\n",
    "wordcloud(neg_lcount.squeeze())"
   ]
  },
  {
   "cell_type": "markdown",
   "id": "f511c2f1",
   "metadata": {},
   "source": [
    "# Part 3: Modeling & Model Evaluations"
   ]
  },
  {
   "cell_type": "code",
   "execution_count": 37,
   "id": "875f613d",
   "metadata": {},
   "outputs": [
    {
     "data": {
      "text/html": [
       "<div>\n",
       "<style scoped>\n",
       "    .dataframe tbody tr th:only-of-type {\n",
       "        vertical-align: middle;\n",
       "    }\n",
       "\n",
       "    .dataframe tbody tr th {\n",
       "        vertical-align: top;\n",
       "    }\n",
       "\n",
       "    .dataframe thead th {\n",
       "        text-align: right;\n",
       "    }\n",
       "</style>\n",
       "<table border=\"1\" class=\"dataframe\">\n",
       "  <thead>\n",
       "    <tr style=\"text-align: right;\">\n",
       "      <th></th>\n",
       "      <th>Date</th>\n",
       "      <th>Star_Rating</th>\n",
       "      <th>Restaurant</th>\n",
       "      <th>Customer_Sentiment</th>\n",
       "      <th>Review</th>\n",
       "      <th>tokens</th>\n",
       "      <th>num_tokens</th>\n",
       "      <th>polarity</th>\n",
       "    </tr>\n",
       "  </thead>\n",
       "  <tbody>\n",
       "    <tr>\n",
       "      <th>0</th>\n",
       "      <td>1/19/23</td>\n",
       "      <td>5</td>\n",
       "      <td>pizza</td>\n",
       "      <td>positive</td>\n",
       "      <td>You've never had a good pizza till you've had ...</td>\n",
       "      <td>[youve, never, good, pizza, till, youve, pizza...</td>\n",
       "      <td>17</td>\n",
       "      <td>0.477778</td>\n",
       "    </tr>\n",
       "    <tr>\n",
       "      <th>1</th>\n",
       "      <td>1/18/23</td>\n",
       "      <td>1</td>\n",
       "      <td>pizza</td>\n",
       "      <td>negative</td>\n",
       "      <td>This is my Kids FAV pizza in town. Yes, it may...</td>\n",
       "      <td>[kids, fav, pizza, town, yes, may, 2x, 3x, cos...</td>\n",
       "      <td>55</td>\n",
       "      <td>0.013636</td>\n",
       "    </tr>\n",
       "    <tr>\n",
       "      <th>2</th>\n",
       "      <td>12/4/22</td>\n",
       "      <td>5</td>\n",
       "      <td>pizza</td>\n",
       "      <td>positive</td>\n",
       "      <td>I ordered a basil and cheese pizza and it is p...</td>\n",
       "      <td>[ordered, basil, cheese, pizza, phenomenal, ch...</td>\n",
       "      <td>34</td>\n",
       "      <td>0.600000</td>\n",
       "    </tr>\n",
       "    <tr>\n",
       "      <th>3</th>\n",
       "      <td>8/26/16</td>\n",
       "      <td>5</td>\n",
       "      <td>pizza</td>\n",
       "      <td>positive</td>\n",
       "      <td>Myself, and my dear Friend and her daughter vi...</td>\n",
       "      <td>[dear, friend, daughter, visited, may, 13, lat...</td>\n",
       "      <td>53</td>\n",
       "      <td>-0.059167</td>\n",
       "    </tr>\n",
       "    <tr>\n",
       "      <th>4</th>\n",
       "      <td>2/13/15</td>\n",
       "      <td>4</td>\n",
       "      <td>pizza</td>\n",
       "      <td>positive</td>\n",
       "      <td>Me and my co-workers went to this location for...</td>\n",
       "      <td>[coworkers, went, location, first, time, picke...</td>\n",
       "      <td>29</td>\n",
       "      <td>-0.069444</td>\n",
       "    </tr>\n",
       "  </tbody>\n",
       "</table>\n",
       "</div>"
      ],
      "text/plain": [
       "      Date  Star_Rating Restaurant Customer_Sentiment  \\\n",
       "0  1/19/23            5      pizza           positive   \n",
       "1  1/18/23            1      pizza           negative   \n",
       "2  12/4/22            5      pizza           positive   \n",
       "3  8/26/16            5      pizza           positive   \n",
       "4  2/13/15            4      pizza           positive   \n",
       "\n",
       "                                              Review  \\\n",
       "0  You've never had a good pizza till you've had ...   \n",
       "1  This is my Kids FAV pizza in town. Yes, it may...   \n",
       "2  I ordered a basil and cheese pizza and it is p...   \n",
       "3  Myself, and my dear Friend and her daughter vi...   \n",
       "4  Me and my co-workers went to this location for...   \n",
       "\n",
       "                                              tokens  num_tokens  polarity  \n",
       "0  [youve, never, good, pizza, till, youve, pizza...          17  0.477778  \n",
       "1  [kids, fav, pizza, town, yes, may, 2x, 3x, cos...          55  0.013636  \n",
       "2  [ordered, basil, cheese, pizza, phenomenal, ch...          34  0.600000  \n",
       "3  [dear, friend, daughter, visited, may, 13, lat...          53 -0.059167  \n",
       "4  [coworkers, went, location, first, time, picke...          29 -0.069444  "
      ]
     },
     "execution_count": 37,
     "metadata": {},
     "output_type": "execute_result"
    }
   ],
   "source": [
    "# final dataframe = pt_df\n",
    "pt_df.head()"
   ]
  },
  {
   "cell_type": "code",
   "execution_count": 38,
   "id": "350d1eab",
   "metadata": {},
   "outputs": [
    {
     "data": {
      "text/plain": [
       "(785, 8)"
      ]
     },
     "execution_count": 38,
     "metadata": {},
     "output_type": "execute_result"
    }
   ],
   "source": [
    "pt_df.shape"
   ]
  },
  {
   "cell_type": "markdown",
   "id": "f96973f6",
   "metadata": {},
   "source": [
    "# Splitting the data into trainig and testing"
   ]
  },
  {
   "cell_type": "code",
   "execution_count": 39,
   "id": "52a9b07c",
   "metadata": {},
   "outputs": [],
   "source": [
    "# Splitting the data\n",
    "x_train, x_test, y_train, y_test = train_test_split(pt_df['tokens'],\n",
    "                                                    pt_df['Customer_Sentiment'],\n",
    "                                                    test_size=0.2,\n",
    "                                                    random_state=42,\n",
    "                                                    stratify=pt_df[\"Customer_Sentiment\"])"
   ]
  },
  {
   "cell_type": "code",
   "execution_count": 40,
   "id": "565332db",
   "metadata": {},
   "outputs": [
    {
     "name": "stdout",
     "output_type": "stream",
     "text": [
      "Size of Training Data  628\n",
      "Size of Test Data  157\n"
     ]
    }
   ],
   "source": [
    "print('Size of Training Data ', x_train.shape[0])\n",
    "print('Size of Test Data ', x_test.shape[0])"
   ]
  },
  {
   "cell_type": "code",
   "execution_count": 41,
   "id": "0a67aa10",
   "metadata": {},
   "outputs": [],
   "source": [
    "# We're going to use a TfidfVectorizer to convert tokens lists to numbers\n",
    "\n",
    "X_train = x_train.astype(str)\n",
    "X_test = x_test.astype(str)\n",
    "\n",
    "tfidf = TfidfVectorizer(min_df = 10, ngram_range=(1,2), stop_words=\"english\")\n",
    "\n",
    "X_train_tf = tfidf.fit_transform(X_train).toarray()\n",
    "X_test_tf = tfidf.transform(X_test).toarray()"
   ]
  },
  {
   "cell_type": "markdown",
   "id": "9cd420d1",
   "metadata": {},
   "source": [
    "# Unbalanced Class"
   ]
  },
  {
   "cell_type": "code",
   "execution_count": 42,
   "id": "955f6c73",
   "metadata": {},
   "outputs": [
    {
     "data": {
      "text/plain": [
       "<AxesSubplot:>"
      ]
     },
     "execution_count": 42,
     "metadata": {},
     "output_type": "execute_result"
    },
    {
     "data": {
      "image/png": "[encoded data removed]",
      "text/plain": [
       "<Figure size 432x288 with 1 Axes>"
      ]
     },
     "metadata": {},
     "output_type": "display_data"
    }
   ],
   "source": [
    "#Imbalance class\n",
    "pt_df['Customer_Sentiment'].value_counts().sort_index().plot(kind='bar')"
   ]
  },
  {
   "cell_type": "code",
   "execution_count": 43,
   "id": "758a701f",
   "metadata": {},
   "outputs": [
    {
     "name": "stdout",
     "output_type": "stream",
     "text": [
      "              precision    recall  f1-score   support\n",
      "\n",
      "    negative       0.00      0.00      0.00         0\n",
      "    positive       1.00      0.73      0.85       157\n",
      "\n",
      "    accuracy                           0.73       157\n",
      "   macro avg       0.50      0.37      0.42       157\n",
      "weighted avg       1.00      0.73      0.85       157\n",
      "\n"
     ]
    }
   ],
   "source": [
    "#Dummy Classifier (Baseline Model)\n",
    "from sklearn.dummy import DummyClassifier\n",
    "\n",
    "dummy_clf = DummyClassifier(strategy=\"most_frequent\", random_state=42)\n",
    "dummy_clf.fit(X_train_tf, y_train)\n",
    "\n",
    "# Predicting on the test data\n",
    "y_pred = dummy_clf.predict(X_test_tf)\n",
    "cm = confusion_matrix(y_test, y_pred)\n",
    "print(classification_report(y_pred, y_test))"
   ]
  },
  {
   "cell_type": "code",
   "execution_count": 44,
   "id": "3f4ead03",
   "metadata": {},
   "outputs": [
    {
     "name": "stdout",
     "output_type": "stream",
     "text": [
      "0.6878980891719745\n",
      "Classification Report \n",
      "               precision    recall  f1-score   support\n",
      "\n",
      "    negative       0.32      0.14      0.20        42\n",
      "    positive       0.74      0.89      0.81       115\n",
      "\n",
      "    accuracy                           0.69       157\n",
      "   macro avg       0.53      0.51      0.50       157\n",
      "weighted avg       0.63      0.69      0.64       157\n",
      "\n"
     ]
    }
   ],
   "source": [
    "# K-Nearest Neighbor (KNN)  Model \n",
    "from sklearn.neighbors import KNeighborsClassifier\n",
    "knn = KNeighborsClassifier(n_neighbors=5)\n",
    "knn.fit(X_train_tf, y_train)\n",
    "# KNN Model Prediction on Validation Set \n",
    "knn_pred = knn.predict(X_test_tf)\n",
    "# KNN Model Evals - Confusion Matrix \n",
    "print(accuracy_score(y_test, knn_pred))\n",
    "print('Classification Report \\n', \n",
    "       classification_report(y_test, knn_pred))"
   ]
  },
  {
   "cell_type": "code",
   "execution_count": 45,
   "id": "b3f70fd6",
   "metadata": {},
   "outputs": [
    {
     "name": "stdout",
     "output_type": "stream",
     "text": [
      "Accuracy: 0.6624203821656051\n",
      "Accuracy Score -  0.6624203821656051\n",
      "              precision    recall  f1-score   support\n",
      "\n",
      "    negative       0.33      0.26      0.29        42\n",
      "    positive       0.75      0.81      0.78       115\n",
      "\n",
      "    accuracy                           0.66       157\n",
      "   macro avg       0.54      0.54      0.54       157\n",
      "weighted avg       0.64      0.66      0.65       157\n",
      "\n"
     ]
    }
   ],
   "source": [
    "from sklearn.tree import DecisionTreeClassifier\n",
    "from sklearn import metrics \n",
    "# Create Decision Tree classifer object\n",
    "clf = DecisionTreeClassifier()\n",
    "\n",
    "# Train Decision Tree Classifer\n",
    "clf = clf.fit(X_train_tf, y_train)\n",
    "\n",
    "#Predict the response for test dataset\n",
    "y_pred = clf.predict(X_test_tf)\n",
    "# Model Accuracy, how often is the classifier correct?\n",
    "print(\"Accuracy:\",metrics.accuracy_score(y_test, y_pred))\n",
    "print('Accuracy Score - ', accuracy_score(y_test, y_pred))\n",
    "print(classification_report(y_test, y_pred))"
   ]
  },
  {
   "cell_type": "code",
   "execution_count": 46,
   "id": "892c710c",
   "metadata": {},
   "outputs": [
    {
     "name": "stdout",
     "output_type": "stream",
     "text": [
      "              precision    recall  f1-score   support\n",
      "\n",
      "    negative       0.07      1.00      0.13         3\n",
      "    positive       1.00      0.75      0.86       154\n",
      "\n",
      "    accuracy                           0.75       157\n",
      "   macro avg       0.54      0.87      0.49       157\n",
      "weighted avg       0.98      0.75      0.84       157\n",
      "\n"
     ]
    }
   ],
   "source": [
    "#  Random Forest Classifier\n",
    "classifier = RandomForestClassifier(n_estimators=1000, random_state=0)\n",
    "classifier.fit(X_train_tf, y_train)\n",
    "\n",
    "# Predicting on the test data\n",
    "y_pred = classifier.predict(X_test_tf)\n",
    "cm = confusion_matrix(y_test, y_pred)\n",
    "print(classification_report(y_pred, y_test))"
   ]
  },
  {
   "cell_type": "code",
   "execution_count": 47,
   "id": "792a8d7c",
   "metadata": {},
   "outputs": [
    {
     "name": "stdout",
     "output_type": "stream",
     "text": [
      "Accuracy Score -  0.732484076433121\n",
      "              precision    recall  f1-score   support\n",
      "\n",
      "    negative       0.50      0.29      0.36        42\n",
      "    positive       0.77      0.90      0.83       115\n",
      "\n",
      "    accuracy                           0.73       157\n",
      "   macro avg       0.64      0.59      0.60       157\n",
      "weighted avg       0.70      0.73      0.71       157\n",
      "\n"
     ]
    }
   ],
   "source": [
    "#LinearSVC\n",
    "model1 = LinearSVC(random_state = 0, tol =1e-5)\n",
    "model1.fit(X_train_tf, y_train)\n",
    "\n",
    "#Prediction\n",
    "y_pred = model1.predict(X_test_tf)\n",
    "print('Accuracy Score - ', accuracy_score(y_test, y_pred))\n",
    "\n",
    "#Confusion matrix\n",
    "confusion_matrix(y_test, y_pred)\n",
    "\n",
    "#Classification report\n",
    "print(classification_report(y_test, y_pred))"
   ]
  },
  {
   "cell_type": "code",
   "execution_count": 48,
   "id": "46c5ead9",
   "metadata": {},
   "outputs": [
    {
     "name": "stdout",
     "output_type": "stream",
     "text": [
      "Accuracy Score: 0.7261146496815286\n",
      "\n",
      "\n",
      "              precision    recall  f1-score   support\n",
      "\n",
      "    negative       0.47      0.17      0.25        42\n",
      "    positive       0.75      0.93      0.83       115\n",
      "\n",
      "    accuracy                           0.73       157\n",
      "   macro avg       0.61      0.55      0.54       157\n",
      "weighted avg       0.68      0.73      0.68       157\n",
      "\n"
     ]
    }
   ],
   "source": [
    "#SUPPORT VECTOR MACHINE (SVM)\n",
    "from sklearn import svm\n",
    "from sklearn.svm import SVC\n",
    "\n",
    "cls = svm.SVC(kernel=\"linear\", gamma=\"auto\", C=2)\n",
    "\n",
    "\n",
    "cls.fit(X_train_tf, y_train)\n",
    "y_predict = cls.predict(X_test_tf)\n",
    "\n",
    "print('Accuracy Score:', accuracy_score(y_test, y_predict))\n",
    "print('\\n')\n",
    "print(classification_report(y_test, y_predict))"
   ]
  },
  {
   "cell_type": "markdown",
   "id": "179e761d",
   "metadata": {},
   "source": [
    "# Balanced Class"
   ]
  },
  {
   "cell_type": "code",
   "execution_count": 50,
   "id": "31107ef9",
   "metadata": {},
   "outputs": [
    {
     "name": "stdout",
     "output_type": "stream",
     "text": [
      "Number of X_train before and after resampling:  (628, 480) (920, 480)\n",
      "Number of y_train after resampling:  (628,) (920,)\n",
      "Number of X_test after resampling:  (157, 480) (157, 480)\n",
      "Number of y_test after resampling:  (157,) (157,)\n"
     ]
    }
   ],
   "source": [
    "# SMOTE over sampling \n",
    "#resampling rarely works well with text data\n",
    "from imblearn.over_sampling import SMOTE\n",
    "sm = SMOTE(random_state = 42)\n",
    "X_train_res, y_train_res = sm.fit_sample(X_train_tf, y_train)\n",
    "\n",
    "print(\"Number of X_train before and after resampling: \", X_train_tf.shape, X_train_res.shape)\n",
    "print(\"Number of y_train after resampling: \", y_train.shape, y_train_res.shape)\n",
    "print(\"Number of X_test after resampling: \", X_test_tf.shape,X_test_tf.shape)\n",
    "print(\"Number of y_test after resampling: \", y_test.shape,y_test.shape)"
   ]
  },
  {
   "cell_type": "code",
   "execution_count": 74,
   "id": "145d997b",
   "metadata": {},
   "outputs": [
    {
     "name": "stdout",
     "output_type": "stream",
     "text": [
      "              precision    recall  f1-score   support\n",
      "\n",
      "    negative       1.00      0.27      0.42       157\n",
      "    positive       0.00      0.00      0.00         0\n",
      "\n",
      "    accuracy                           0.27       157\n",
      "   macro avg       0.50      0.13      0.21       157\n",
      "weighted avg       1.00      0.27      0.42       157\n",
      "\n"
     ]
    },
    {
     "data": {
      "text/plain": [
       "<AxesSubplot:>"
      ]
     },
     "execution_count": 74,
     "metadata": {},
     "output_type": "execute_result"
    },
    {
     "data": {
      "image/png": "[encoded data removed]",
      "text/plain": [
       "<Figure size 432x288 with 2 Axes>"
      ]
     },
     "metadata": {},
     "output_type": "display_data"
    }
   ],
   "source": [
    "#Dummy Classifier (Baseline Model)\n",
    "from sklearn.dummy import DummyClassifier\n",
    "\n",
    "dummy_clf = DummyClassifier(strategy=\"most_frequent\", random_state=42)\n",
    "dummy_clf.fit(X_train_res, y_train_res)\n",
    "\n",
    "# Predicting on the test data\n",
    "Dummy_pred = dummy_clf.predict(X_test_tf)\n",
    "cm = confusion_matrix(y_test, Dummy_pred)\n",
    "print(classification_report(Dummy_pred, y_test))\n",
    "sns.heatmap(cm, annot=True)"
   ]
  },
  {
   "cell_type": "code",
   "execution_count": 76,
   "id": "5c4d789a",
   "metadata": {},
   "outputs": [
    {
     "name": "stdout",
     "output_type": "stream",
     "text": [
      "              precision    recall  f1-score   support\n",
      "\n",
      "    negative       0.12      0.36      0.18        14\n",
      "    positive       0.92      0.74      0.82       143\n",
      "\n",
      "    accuracy                           0.71       157\n",
      "   macro avg       0.52      0.55      0.50       157\n",
      "weighted avg       0.85      0.71      0.76       157\n",
      "\n"
     ]
    },
    {
     "data": {
      "image/png": "[encoded data removed]",
      "text/plain": [
       "<Figure size 432x288 with 2 Axes>"
      ]
     },
     "metadata": {},
     "output_type": "display_data"
    }
   ],
   "source": [
    "# Random Forest Classifier\n",
    "rf = RandomForestClassifier(n_estimators=1000, random_state=42)\n",
    "rf.fit(X_train_res, y_train_res)\n",
    "\n",
    "# Predicting on the test data\n",
    "rf_pred = rf.predict(X_test_tf)\n",
    "\n",
    "# Confusion matrix\n",
    "cm = confusion_matrix(y_test, rf_pred)\n",
    "sns.heatmap(cm, annot=True)\n",
    "\n",
    "# Classification report\n",
    "print(classification_report(rf_pred, y_test))"
   ]
  },
  {
   "cell_type": "code",
   "execution_count": 77,
   "id": "1d138060",
   "metadata": {},
   "outputs": [
    {
     "name": "stdout",
     "output_type": "stream",
     "text": [
      "Accuracy Score -  0.6242038216560509\n",
      "              precision    recall  f1-score   support\n",
      "\n",
      "    negative       0.40      0.33      0.37        51\n",
      "    positive       0.70      0.76      0.73       106\n",
      "\n",
      "    accuracy                           0.62       157\n",
      "   macro avg       0.55      0.55      0.55       157\n",
      "weighted avg       0.61      0.62      0.61       157\n",
      "\n"
     ]
    },
    {
     "data": {
      "image/png": "[encoded data removed]",
      "text/plain": [
       "<Figure size 432x288 with 2 Axes>"
      ]
     },
     "metadata": {},
     "output_type": "display_data"
    }
   ],
   "source": [
    "# LinearSVC\n",
    "lsvc = LinearSVC(random_state = 42, tol =1e-5)\n",
    "lsvc.fit(X_train_res, y_train_res)\n",
    "\n",
    "#Prediction\n",
    "lsvc_pred = lsvc.predict(X_test_tf)\n",
    "\n",
    "# Confusion matrix\n",
    "cm = confusion_matrix(y_test, lsvc_pred)\n",
    "sns.heatmap(cm, annot=True)\n",
    "\n",
    "print('Accuracy Score - ', accuracy_score(y_test, lsvc_pred))\n",
    "print(classification_report(lsvc_pred, y_test))"
   ]
  },
  {
   "cell_type": "code",
   "execution_count": 78,
   "id": "940124a4",
   "metadata": {},
   "outputs": [
    {
     "name": "stdout",
     "output_type": "stream",
     "text": [
      "Fitting 10 folds for each of 30 candidates, totalling 300 fits\n",
      "{'n_neighbors': 1}\n",
      "Accuracy for our training dataset with tuning is : 57.83%\n",
      "0.31210191082802546\n",
      "Classification Report \n",
      "               precision    recall  f1-score   support\n",
      "\n",
      "    negative       0.98      0.28      0.43       148\n",
      "    positive       0.07      0.89      0.13         9\n",
      "\n",
      "    accuracy                           0.31       157\n",
      "   macro avg       0.52      0.58      0.28       157\n",
      "weighted avg       0.92      0.31      0.41       157\n",
      "\n"
     ]
    },
    {
     "data": {
      "image/png": "[encoded data removed]",
      "text/plain": [
       "<Figure size 432x288 with 2 Axes>"
      ]
     },
     "metadata": {},
     "output_type": "display_data"
    }
   ],
   "source": [
    "# KNeighborsClassifier\n",
    "from sklearn.neighbors import KNeighborsClassifier\n",
    "knn = KNeighborsClassifier()\n",
    "from sklearn.model_selection import GridSearchCV\n",
    "k_range = list(range(1, 31))\n",
    "param_grid = dict(n_neighbors=k_range)\n",
    "  \n",
    "# defining parameter range\n",
    "grid = GridSearchCV(knn, param_grid,\n",
    "                    cv=10,\n",
    "                    scoring='accuracy',\n",
    "                    return_train_score=False,\n",
    "                    verbose=1)\n",
    "  \n",
    "# fitting the model for grid search\n",
    "grid_search=grid.fit(X_train_res, y_train_res)\n",
    "\n",
    "print(grid_search.best_params_)\n",
    "\n",
    "accuracy = grid_search.best_score_ *100\n",
    "print(\"Accuracy for our training dataset with tuning is : {:.2f}%\".format(accuracy) )\n",
    "\n",
    "\n",
    "\n",
    "\n",
    "knn = KNeighborsClassifier(n_neighbors=2)\n",
    "\n",
    "knn.fit(X_train_res, y_train_res)\n",
    "\n",
    "# KNN Model Prediction on Validation Set \n",
    "knn_pred = knn.predict(X_test_tf)\n",
    "\n",
    "# Confusion matrix\n",
    "cm = confusion_matrix(y_test, knn_pred)\n",
    "sns.heatmap(cm, annot=True)\n",
    "\n",
    "# KNN Model Evals - Confusion Matrix \n",
    "print(accuracy_score(y_test, knn_pred))\n",
    "print('Classification Report \\n', \n",
    "       classification_report(knn_pred, y_test))"
   ]
  },
  {
   "cell_type": "code",
   "execution_count": 79,
   "id": "321feb2b",
   "metadata": {},
   "outputs": [
    {
     "name": "stdout",
     "output_type": "stream",
     "text": [
      "Fitting 5 folds for each of 90 candidates, totalling 450 fits\n",
      "Accuracy: 0.6114649681528662\n",
      "Accuracy Score -  0.6114649681528662\n",
      "              precision    recall  f1-score   support\n",
      "\n",
      "    negative       0.19      0.23      0.21        35\n",
      "    positive       0.77      0.72      0.74       122\n",
      "\n",
      "    accuracy                           0.61       157\n",
      "   macro avg       0.48      0.47      0.48       157\n",
      "weighted avg       0.64      0.61      0.62       157\n",
      "\n"
     ]
    },
    {
     "data": {
      "image/png": "[encoded data removed]",
      "text/plain": [
       "<Figure size 432x288 with 2 Axes>"
      ]
     },
     "metadata": {},
     "output_type": "display_data"
    }
   ],
   "source": [
    "# GridSearchCV for Decision Tree\n",
    "from sklearn.tree import DecisionTreeClassifier\n",
    "import sklearn.metrics as metrics\n",
    "param_grid = {'max_features': ['auto', 'sqrt', 'log2'],\n",
    "              'ccp_alpha': [0.1, .01, .001],\n",
    "              'max_depth' : [5, 6, 7, 8, 9],\n",
    "              'criterion' :['gini', 'entropy']\n",
    "             }\n",
    "tree_clas = DecisionTreeClassifier(random_state=42)\n",
    "grid_search = GridSearchCV(estimator=tree_clas, param_grid=param_grid, cv=5, verbose=True)\n",
    "grid_search.fit(X_train_res, y_train_res)\n",
    "tree_predict = grid_search.predict(X_test_tf)\n",
    "\n",
    "# Confusion matrix\n",
    "cm = confusion_matrix(y_test, tree_predict)\n",
    "sns.heatmap(cm, annot=True)\n",
    "\n",
    "# Model Accuracy, how often is the classifier correct?\n",
    "print(\"Accuracy:\",metrics.accuracy_score(y_test, tree_predict))\n",
    "print('Accuracy Score - ', accuracy_score(y_test, tree_predict))\n",
    "print(classification_report(tree_predict, y_test))"
   ]
  },
  {
   "cell_type": "code",
   "execution_count": 80,
   "id": "a30fe00a",
   "metadata": {},
   "outputs": [
    {
     "name": "stdout",
     "output_type": "stream",
     "text": [
      "Model accuracy score: 0.6115\n",
      "              precision    recall  f1-score   support\n",
      "\n",
      "    negative       0.48      0.34      0.40        59\n",
      "    positive       0.66      0.78      0.71        98\n",
      "\n",
      "    accuracy                           0.61       157\n",
      "   macro avg       0.57      0.56      0.55       157\n",
      "weighted avg       0.59      0.61      0.59       157\n",
      "\n"
     ]
    },
    {
     "data": {
      "image/png": "[encoded data removed]",
      "text/plain": [
       "<Figure size 432x288 with 2 Axes>"
      ]
     },
     "metadata": {},
     "output_type": "display_data"
    }
   ],
   "source": [
    "#Naive Bayes\n",
    "\n",
    "from sklearn.naive_bayes import GaussianNB\n",
    "# instantiate the model\n",
    "gnb = GaussianNB()\n",
    "\n",
    "gnb.fit(X_train_res, y_train_res)\n",
    "y_pred = gnb.predict(X_test_tf)\n",
    "\n",
    "# Confusion matrix\n",
    "cm = confusion_matrix(y_test, tree_predict)\n",
    "sns.heatmap(cm, annot=True)\n",
    "\n",
    "print('Model accuracy score: {0:0.4f}'. format(accuracy_score(y_test, y_pred)))\n",
    "print(classification_report(y_pred, y_test))"
   ]
  },
  {
   "cell_type": "code",
   "execution_count": null,
   "id": "301aff2b",
   "metadata": {},
   "outputs": [],
   "source": [
    "# \n",
    "runSUV = True\n",
    "\n",
    "tfidf = TfidfVectorizer(stop_words='english')\n",
    "\n",
    "if(runSVC):\n",
    "    model = SVC(random_state = 42, probability = True)\n",
    "    grid_param = [{\n",
    "        'tfidf_min_df':[5,10],\n",
    "        'tfidf_ngram_range':[(1,3),(1,6)],\n",
    "        'model_c':[1,100],\n",
    "        'model_kernel':['linear']\n",
    "        \n",
    "    }]\n",
    "else:\n",
    "    model = LinearSVC(random_state = 42, tol= 1e-5)\n",
    "    grid_param = {\n",
    "        'tfidf_min_df':[5,10],\n",
    "        'tfidf_ngram_range':[(1,3),(1,6)],\n",
    "        'model_c':[1,100],\n",
    "        'model_loss':['hinge']\n",
    "        \n",
    "    }\n",
    "\n",
    "training_pipeline = pipeline(\n",
    "    steps = [('tfidf',TfidfVectorizer(stop_words='english')),('model',model)])\n",
    "\n",
    "gridSearchProcessor = GridSearchCV(estimator = training_pipeline,\n",
    "                                  param_grid = grid_param,\n",
    "                                  cv = 5)\n",
    "gridSearchProcessor.fit(X_res, y_res)\n",
    "\n",
    "best_params = gridSearchProcessor.best_params_\n",
    "print('Best alpha parameter identified by grid search', best_params)\n",
    "\n",
    "best_result = gridSearchProcessor.best_score_\n",
    "print('Best result identified by grid search', best_result_)\n",
    "\n",
    "best_model = gridSearchProcessor.best_estimator_\n",
    "\n",
    "\n",
    "#Model Evaluation\n",
    "y_pred = best_model.predict(X_test_tf)\n",
    "print('Accuracy Score - ', accuracy_score(y_test,y_pred))\n",
    "print(classification_report(y_test,y_pred))\n",
    "    \n"
   ]
  },
  {
   "cell_type": "markdown",
   "id": "de9331dd",
   "metadata": {},
   "source": [
    "# Model comparision"
   ]
  },
  {
   "cell_type": "code",
   "execution_count": 73,
   "id": "23e35871",
   "metadata": {},
   "outputs": [
    {
     "data": {
      "image/png": "[encoded data removed]",
      "text/plain": [
       "<Figure size 432x288 with 1 Axes>"
      ]
     },
     "metadata": {},
     "output_type": "display_data"
    }
   ],
   "source": [
    "#ROC Curve\n",
    "# Dummy Classifier, Random Forest Classifier, KNN,Naive Bayes, and Decision Tree Classifier Model Comparisons \n",
    "from sklearn.metrics import roc_curve\n",
    "\n",
    "y_pred_prob1 = dummy_clf.predict_proba(X_test_tf)[:,1]\n",
    "fpr1 , tpr1, thresholds1 = roc_curve(y_test, y_pred_prob1, pos_label='positive')\n",
    "\n",
    "y_pred_prob2 = rf.predict_proba(X_test_tf)[:,1]\n",
    "fpr2 , tpr2, thresholds2 = roc_curve(y_test, y_pred_prob2, pos_label='positive')\n",
    "\n",
    "\n",
    "y_pred_prob3 = grid_search.predict_proba(X_test_tf)[:,1]\n",
    "fpr3 , tpr3, thresholds3 = roc_curve(y_test, y_pred_prob3, pos_label='positive')\n",
    "\n",
    "y_pred_prob4 = knn.predict_proba(X_test_tf)[:,1]\n",
    "fpr4 , tpr4, thresholds4 = roc_curve(y_test, y_pred_prob4, pos_label='positive')\n",
    "\n",
    "y_pred_prob5 = gnb.predict_proba(X_test_tf)[:,1]\n",
    "fpr5 , tpr5, thresholds5 = roc_curve(y_test, y_pred_prob5, pos_label='positive')\n",
    "\n",
    "\n",
    "plt.plot([0,1],[0,1], 'k--')\n",
    "plt.plot(fpr1, tpr1, label= \"Dummy Classifier\")\n",
    "plt.plot(fpr2, tpr2, label= \"Random Forest Classifier\")\n",
    "plt.plot(fpr3, tpr3, label= \"K-Nearest Neighbor\")\n",
    "plt.plot(fpr4, tpr4, label= \"Decision Tree Classifier\")\n",
    "plt.plot(fpr5, tpr5, label= \"Naive Bayes\")\n",
    "\n",
    "plt.legend()\n",
    "plt.xlabel(\"False Positive Rate\")\n",
    "plt.ylabel(\"True Positive Rate\")\n",
    "plt.title('Model Comparison')\n",
    "plt.show()"
   ]
  }
 ],
 "metadata": {
  "kernelspec": {
   "display_name": "Python 3",
   "language": "python",
   "name": "python3"
  },
  "language_info": {
   "codemirror_mode": {
    "name": "ipython",
    "version": 3
   },
   "file_extension": ".py",
   "mimetype": "text/x-python",
   "name": "python",
   "nbconvert_exporter": "python",
   "pygments_lexer": "ipython3",
   "version": "3.8.8"
  }
 },
 "nbformat": 4,
 "nbformat_minor": 5
}
